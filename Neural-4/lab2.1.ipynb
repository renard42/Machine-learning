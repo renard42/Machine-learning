{
 "cells": [
  {
   "cell_type": "markdown",
   "metadata": {},
   "source": [
    "**Древнегреческий**: Индоевропейская семья -> Палеобалканская ветвь -> Греческая группа; синтетический по морфологии  \n",
    "**Норвежский**: Индоевропейская семья -> Германская ветвь -> Скандинавская группа -> Континентальная подгруппа; флективный?"
   ]
  },
  {
   "cell_type": "markdown",
   "metadata": {},
   "source": [
    "Train + Validate + Test  \n",
    "Without \"most_common\"?   \n",
    "Change architecture  \n",
    "Shuffle  \n",
    "Change parameters"
   ]
  },
  {
   "cell_type": "code",
   "execution_count": 87,
   "metadata": {},
   "outputs": [],
   "source": [
    "import conllu\n",
    "from statistics import mean, median\n",
    "from collections import Counter\n",
    "import numpy as np\n",
    "from random import shuffle"
   ]
  },
  {
   "cell_type": "code",
   "execution_count": 88,
   "metadata": {},
   "outputs": [],
   "source": [
    "from io import open\n",
    "from conllu import parse_incr, parse"
   ]
  },
  {
   "cell_type": "code",
   "execution_count": 89,
   "metadata": {},
   "outputs": [],
   "source": [
    "from keras.preprocessing.sequence import pad_sequences\n",
    "from keras.utils.np_utils import to_categorical"
   ]
  },
  {
   "cell_type": "code",
   "execution_count": 90,
   "metadata": {},
   "outputs": [],
   "source": [
    "from keras.layers import Activation, Dense, Dropout, Embedding, LSTM, SimpleRNN, Bidirectional, GRU\n",
    "from keras.models import Sequential\n",
    "from keras.preprocessing import sequence\n",
    "from sklearn.model_selection import train_test_split"
   ]
  },
  {
   "cell_type": "markdown",
   "metadata": {},
   "source": [
    "Читаем и парсим conllu файлы для каждого языка:"
   ]
  },
  {
   "cell_type": "code",
   "execution_count": 91,
   "metadata": {},
   "outputs": [],
   "source": [
    "data_file = open(\"UD_Ancient_Greek-Perseus/grc_perseus-ud-train.conllu\", \"r\", encoding=\"utf-8\")\n",
    "greek = list(parse_incr(data_file))\n",
    "\n",
    "data_file_test = open(\"UD_Ancient_Greek-Perseus/grc_perseus-ud-test.conllu\", \"r\", encoding=\"utf-8\")\n",
    "greek_test = list(parse_incr(data_file_test))"
   ]
  },
  {
   "cell_type": "code",
   "execution_count": 92,
   "metadata": {},
   "outputs": [],
   "source": [
    "data_file = open(\"UD_Norwegian-Bokmaal/no_bokmaal-ud-train.conllu\", \"r\", encoding=\"utf-8\")\n",
    "norv = list(parse_incr(data_file))\n",
    "\n",
    "data_file_test = open(\"UD_Norwegian-Bokmaal/no_bokmaal-ud-test.conllu\", \"r\", encoding=\"utf-8\")\n",
    "norv_test = list(parse_incr(data_file_test))"
   ]
  },
  {
   "cell_type": "markdown",
   "metadata": {},
   "source": [
    "После первого подсчета статистики оказалось, что в тестовой выборке не представлен один тег. Перемешаем выборки и разделим снова, чтобы исправить:"
   ]
  },
  {
   "cell_type": "code",
   "execution_count": 93,
   "metadata": {},
   "outputs": [],
   "source": [
    "greek_all = greek+greek_test\n",
    "shuffle(greek_all)\n",
    "greek, greek_test = greek_all[:11476], greek_all[11476:]"
   ]
  },
  {
   "cell_type": "code",
   "execution_count": 94,
   "metadata": {},
   "outputs": [
    {
     "data": {
      "text/plain": [
       "(11476, 1306)"
      ]
     },
     "execution_count": 94,
     "metadata": {},
     "output_type": "execute_result"
    }
   ],
   "source": [
    "len(greek), len(greek_test)"
   ]
  },
  {
   "cell_type": "markdown",
   "metadata": {},
   "source": [
    "Посчитаем статистику:"
   ]
  },
  {
   "cell_type": "code",
   "execution_count": 95,
   "metadata": {},
   "outputs": [],
   "source": [
    "def stats(lang):\n",
    "    len_sent = len(lang)\n",
    "    words = Counter()\n",
    "    pos_tags = Counter()\n",
    "    for sent in lang:\n",
    "        for word in sent:\n",
    "            words[word['form']]+=1\n",
    "            pos_tags[word['upostag']]+=1\n",
    "    #words = set([word['form'] for sent in lang for word in sent])\n",
    "    #pos_tags = len(set([meta['upostag'] for sent in lang for meta in sent]))\n",
    "    sents = [len(sent) for sent in lang]\n",
    "    max_w = max(sents)\n",
    "    min_w = min(sents)\n",
    "    mean_w = mean(sents)\n",
    "    median_w = median(sents)\n",
    "    return {'len_sent':len_sent, 'words':words, 'pos_tags':pos_tags, 'max':max_w, 'min':min_w, 'mean':mean_w, 'median':median_w}"
   ]
  },
  {
   "cell_type": "code",
   "execution_count": 96,
   "metadata": {},
   "outputs": [],
   "source": [
    "stats_train_g = stats(greek)\n",
    "stats_test_g = stats(greek_test)\n",
    "\n",
    "stats_train_n = stats(norv)\n",
    "stats_test_n = stats(norv_test)"
   ]
  },
  {
   "cell_type": "code",
   "execution_count": 97,
   "metadata": {},
   "outputs": [
    {
     "name": "stdout",
     "output_type": "stream",
     "text": [
      "For Ancient Greek Train:\n",
      "\tSentences: 11476\n",
      "\tWords: 35220\n",
      "\tPOS-tags: 14\n",
      "\tWords Max: 159\n",
      "\tWords Min: 2\n",
      "\tWords Mean: 14.18046357615894\n",
      "\tWords Median: 12.0\n",
      "--------------------\n",
      "For Ancient Greek Test:\n",
      "\tSentences: 1306\n",
      "\tWords: 7216\n",
      "\tPOS-tags: 14\n",
      "\tWords Max: 64\n",
      "\tWords Min: 2\n",
      "\tWords Mean: 13.873660030627871\n",
      "\tWords Median: 12.0\n",
      "--------------------\n",
      "For Norvegian Train:\n",
      "\tSentences: 15696\n",
      "\tWords: 30072\n",
      "\tPOS-tags: 17\n",
      "\tWords Max: 91\n",
      "\tWords Min: 1\n",
      "\tWords Mean: 15.5381625891947\n",
      "\tWords Median: 14.0\n",
      "--------------------\n",
      "For Norvegian Test:\n",
      "\tSentences: 1939\n",
      "\tWords: 6616\n",
      "\tPOS-tags: 17\n",
      "\tWords Max: 66\n",
      "\tWords Min: 1\n",
      "\tWords Mean: 15.45435791645178\n",
      "\tWords Median: 14\n"
     ]
    }
   ],
   "source": [
    "print(\"For Ancient Greek Train:\\n\\tSentences: {0}\\n\\tWords: {1}\\n\\tPOS-tags: {2}\\n\\tWords Max: {3}\\n\\tWords Min: {4}\\n\\tWords Mean: {5}\\n\\tWords Median: {6}\".format(stats_train_g['len_sent'], len(stats_train_g['words']), len(stats_train_g['pos_tags']), stats_train_g['max'], stats_train_g['min'], stats_train_g['mean'], stats_train_g['median']))\n",
    "print('-'*20)\n",
    "print(\"For Ancient Greek Test:\\n\\tSentences: {0}\\n\\tWords: {1}\\n\\tPOS-tags: {2}\\n\\tWords Max: {3}\\n\\tWords Min: {4}\\n\\tWords Mean: {5}\\n\\tWords Median: {6}\".format(stats_test_g['len_sent'], len(stats_test_g['words']), len(stats_test_g['pos_tags']), stats_test_g['max'], stats_test_g['min'], stats_test_g['mean'], stats_test_g['median']))\n",
    "print('-'*20)\n",
    "print(\"For Norvegian Train:\\n\\tSentences: {0}\\n\\tWords: {1}\\n\\tPOS-tags: {2}\\n\\tWords Max: {3}\\n\\tWords Min: {4}\\n\\tWords Mean: {5}\\n\\tWords Median: {6}\".format(stats_train_n['len_sent'], len(stats_train_n['words']), len(stats_train_n['pos_tags']), stats_train_n['max'], stats_train_n['min'], stats_train_n['mean'], stats_train_n['median']))\n",
    "print('-'*20)\n",
    "print(\"For Norvegian Test:\\n\\tSentences: {0}\\n\\tWords: {1}\\n\\tPOS-tags: {2}\\n\\tWords Max: {3}\\n\\tWords Min: {4}\\n\\tWords Mean: {5}\\n\\tWords Median: {6}\".format(stats_test_n['len_sent'], len(stats_test_n['words']), len(stats_test_n['pos_tags']), stats_test_n['max'], stats_test_n['min'], stats_test_n['mean'], stats_test_n['median']))"
   ]
  },
  {
   "cell_type": "code",
   "execution_count": null,
   "metadata": {},
   "outputs": [],
   "source": []
  },
  {
   "cell_type": "markdown",
   "metadata": {},
   "source": [
    "Сравним слова в тренировочной и тестовой:"
   ]
  },
  {
   "cell_type": "code",
   "execution_count": 98,
   "metadata": {},
   "outputs": [
    {
     "name": "stdout",
     "output_type": "stream",
     "text": [
      "New words in Ancient Greek Test:  2589\n"
     ]
    }
   ],
   "source": [
    "# for greek:\n",
    "words_test_g = set(stats_test_g['words'].keys())\n",
    "words_test_g.difference_update(set(stats_train_g['words'].keys()))\n",
    "print(\"New words in Ancient Greek Test: \", len(words_test_g))"
   ]
  },
  {
   "cell_type": "code",
   "execution_count": 99,
   "metadata": {},
   "outputs": [
    {
     "name": "stdout",
     "output_type": "stream",
     "text": [
      "New words in Norvegian Test:  2435\n"
     ]
    }
   ],
   "source": [
    "# for norvegian:\n",
    "words_test_n = set(stats_test_n['words'].keys())\n",
    "words_test_n.difference_update(set(stats_train_n['words'].keys()))\n",
    "print(\"New words in Norvegian Test: \", len(words_test_n))"
   ]
  },
  {
   "cell_type": "markdown",
   "metadata": {},
   "source": [
    "Разделим исходные текстовые данные на предложения и тэги, чтобы было удобнее перевести в численные представления:"
   ]
  },
  {
   "cell_type": "code",
   "execution_count": 100,
   "metadata": {},
   "outputs": [],
   "source": [
    "def separate(data):\n",
    "    new = []\n",
    "    for sent in data:\n",
    "        new.append([(w['form'], w['upostag']) for w in sent])\n",
    "    sents, tags =[], [] \n",
    "    for tagged in new:\n",
    "        sent, tag = zip(*tagged)\n",
    "        sents.append(np.array(sent))\n",
    "        tags.append(np.array(tag))\n",
    "    return sents,tags"
   ]
  },
  {
   "cell_type": "code",
   "execution_count": 101,
   "metadata": {},
   "outputs": [
    {
     "data": {
      "text/plain": [
       "([array(['τοὶ', 'μὲν', 'δόρποιο', 'μέδοντο', 'ὕπνου', 'τε', 'γλυκεροῦ',\n",
       "         'ταρπήμεναι', '·'], dtype='<U10'),\n",
       "  array(['ἤτοι', 'ὃ', 'μὲν', 'κλαίεσκε', 'πρὸς', 'οὐρανόν', ',', 'αὐτὰρ',\n",
       "         'ἐμὲ', 'Ζεὺς', 'τῷ', 'ἐπαλεξήσουσαν', 'ἀπ̓', 'οὐρανόθεν',\n",
       "         'προΐαλλεν', '.'], dtype='<U13'),\n",
       "  array(['καὶ', 'τάς', 'τε', 'δίκας', 'γράφοντες', 'ἔσω', 'παῤ', 'ἐκεῖνον',\n",
       "         'ἐσπέμπεσκον', ',', 'καὶ', 'ἐκεῖνος', 'διακρίνων', 'τὰς',\n",
       "         'ἐσφερομένας', 'ἐκπέμπεσκε', '.'], dtype='<U11')],\n",
       " [array(['PRON', 'PART', 'NOUN', 'VERB', 'NOUN', 'PART', 'ADJ', 'VERB',\n",
       "         'PUNCT'], dtype='<U5'),\n",
       "  array(['PART', 'PRON', 'PART', 'VERB', 'ADP', 'NOUN', 'PUNCT', 'PART',\n",
       "         'PRON', 'NOUN', 'PRON', 'VERB', 'ADP', 'ADV', 'VERB', 'PUNCT'],\n",
       "        dtype='<U5'),\n",
       "  array(['ADV', 'DET', 'ADV', 'NOUN', 'VERB', 'ADV', 'ADP', 'PRON', 'VERB',\n",
       "         'PUNCT', 'CCONJ', 'PRON', 'VERB', 'DET', 'VERB', 'VERB', 'PUNCT'],\n",
       "        dtype='<U5')])"
      ]
     },
     "execution_count": 101,
     "metadata": {},
     "output_type": "execute_result"
    }
   ],
   "source": [
    "sent_train_g, tag_train_g = separate(greek)\n",
    "sent_test_g, tag_test_g = separate(greek_test)\n",
    "\n",
    "sent_train_g[:3], tag_train_g[:3]"
   ]
  },
  {
   "cell_type": "code",
   "execution_count": 102,
   "metadata": {},
   "outputs": [
    {
     "data": {
      "text/plain": [
       "([array(['Lam', 'og', 'piggvar', 'på', 'bryllupsmenyen'], dtype='<U14'),\n",
       "  array(['Kamskjell', ',', 'piggvar', 'og', 'lammefilet', 'sto', 'på',\n",
       "         'menyen', 'under', 'den', 'kongelige', 'gallamiddagen', '.'],\n",
       "        dtype='<U13'),\n",
       "  array(['Og', 'til', 'dessert', ':', 'Parfait', 'à', 'la', 'Mette-Marit',\n",
       "         '.'], dtype='<U11')],\n",
       " [array(['NOUN', 'CCONJ', 'NOUN', 'SCONJ', 'NOUN'], dtype='<U5'),\n",
       "  array(['NOUN', 'PUNCT', 'NOUN', 'CCONJ', 'NOUN', 'VERB', 'ADP', 'NOUN',\n",
       "         'ADP', 'DET', 'ADJ', 'NOUN', 'PUNCT'], dtype='<U5'),\n",
       "  array(['CCONJ', 'ADP', 'NOUN', 'PUNCT', 'PROPN', 'X', 'X', 'PROPN',\n",
       "         'PUNCT'], dtype='<U5')])"
      ]
     },
     "execution_count": 102,
     "metadata": {},
     "output_type": "execute_result"
    }
   ],
   "source": [
    "sent_train_n, tag_train_n = separate(norv)\n",
    "sent_test_n, tag_test_n = separate(norv_test)\n",
    "\n",
    "sent_train_n[:3], tag_train_n[:3]"
   ]
  },
  {
   "cell_type": "markdown",
   "metadata": {},
   "source": [
    "Создадим lookup-таблицу:"
   ]
  },
  {
   "cell_type": "code",
   "execution_count": 103,
   "metadata": {},
   "outputs": [],
   "source": [
    "def to_index(stats_train):\n",
    "    word2index = {w: i + 2 for i, w in enumerate(list(stats_train['words']))}\n",
    "    word2index['PAD'] = 0\n",
    "    word2index['OOV'] = 1\n",
    "\n",
    "    tag2index = {t: i + 1 for i, t in enumerate(list(stats_train['pos_tags']))}\n",
    "    tag2index['PAD'] = 0\n",
    "    return word2index, tag2index"
   ]
  },
  {
   "cell_type": "code",
   "execution_count": 104,
   "metadata": {},
   "outputs": [],
   "source": [
    "word2index_g, tag2index_g = to_index(stats_train_g)\n",
    "word2index_n, tag2index_n = to_index(stats_train_n)"
   ]
  },
  {
   "cell_type": "code",
   "execution_count": 105,
   "metadata": {},
   "outputs": [
    {
     "data": {
      "text/plain": [
       "{'ADJ': 5,\n",
       " 'ADP': 7,\n",
       " 'ADV': 8,\n",
       " 'CCONJ': 10,\n",
       " 'DET': 9,\n",
       " 'INTJ': 12,\n",
       " 'NOUN': 3,\n",
       " 'NUM': 14,\n",
       " 'PAD': 0,\n",
       " 'PART': 2,\n",
       " 'PRON': 1,\n",
       " 'PUNCT': 6,\n",
       " 'SCONJ': 11,\n",
       " 'VERB': 4,\n",
       " 'X': 13}"
      ]
     },
     "execution_count": 105,
     "metadata": {},
     "output_type": "execute_result"
    }
   ],
   "source": [
    "tag2index_g"
   ]
  },
  {
   "cell_type": "code",
   "execution_count": 161,
   "metadata": {},
   "outputs": [],
   "source": [
    "import operator\n",
    "\n",
    "tag_sort = sorted(tag2index_g.items(), key=operator.itemgetter(1))"
   ]
  },
  {
   "cell_type": "code",
   "execution_count": 162,
   "metadata": {},
   "outputs": [
    {
     "data": {
      "text/plain": [
       "[('PAD', 0),\n",
       " ('PRON', 1),\n",
       " ('PART', 2),\n",
       " ('NOUN', 3),\n",
       " ('VERB', 4),\n",
       " ('ADJ', 5),\n",
       " ('PUNCT', 6),\n",
       " ('ADP', 7),\n",
       " ('ADV', 8),\n",
       " ('DET', 9),\n",
       " ('CCONJ', 10),\n",
       " ('SCONJ', 11),\n",
       " ('INTJ', 12),\n",
       " ('X', 13),\n",
       " ('NUM', 14)]"
      ]
     },
     "execution_count": 162,
     "metadata": {},
     "output_type": "execute_result"
    }
   ],
   "source": [
    "tag_sort"
   ]
  },
  {
   "cell_type": "code",
   "execution_count": null,
   "metadata": {},
   "outputs": [],
   "source": []
  },
  {
   "cell_type": "code",
   "execution_count": 106,
   "metadata": {},
   "outputs": [],
   "source": [
    "NUM_EPOCHS = 10\n",
    "EMB_SIZE = 150\n",
    "HIDDEN_SIZE = 64\n",
    "BATCH_SIZE = 264\n",
    "\n",
    "#MAX_SEQLEN_g = stats_train_g['max']\n",
    "MAX_SEQLEN_g = 45\n",
    "MAX_SEQLEN_n = 50\n",
    "S_MAX_FEATURES_g = len(word2index_g)\n",
    "T_MAX_FEATURES_g = len(tag2index_g)\n",
    "\n",
    "#MAX_SEQLEN_n = stats_train_n['max']\n",
    "S_MAX_FEATURES_n = len(word2index_n)\n",
    "T_MAX_FEATURES_n = len(tag2index_n)"
   ]
  },
  {
   "cell_type": "code",
   "execution_count": 107,
   "metadata": {},
   "outputs": [
    {
     "name": "stdout",
     "output_type": "stream",
     "text": [
      "Parameters for Greek:  45 35222 15\n",
      "Parameters for Norvegian:  50 30074 18\n"
     ]
    }
   ],
   "source": [
    "print(\"Parameters for Greek: \", MAX_SEQLEN_g, S_MAX_FEATURES_g, T_MAX_FEATURES_g)\n",
    "print(\"Parameters for Norvegian: \", MAX_SEQLEN_n, S_MAX_FEATURES_n, T_MAX_FEATURES_n)"
   ]
  },
  {
   "cell_type": "markdown",
   "metadata": {},
   "source": [
    "Переводим предложения в векторное представление, ссылаясь на lookup, заполняем паддинги. Для out-of-vocabulary слов записываем 1"
   ]
  },
  {
   "cell_type": "code",
   "execution_count": 108,
   "metadata": {},
   "outputs": [],
   "source": [
    "def to_num(data, lookup):\n",
    "    nums = []\n",
    "    for i in data:\n",
    "        nums.append([lookup.get(w,1) for w in i])\n",
    "    return nums"
   ]
  },
  {
   "cell_type": "code",
   "execution_count": 109,
   "metadata": {},
   "outputs": [],
   "source": [
    "def padding(s_train, t_train, s_test, t_test, MAX_SEQLEN):\n",
    "    X_train = pad_sequences(s_train, maxlen=MAX_SEQLEN, padding='post')\n",
    "    Y_train = pad_sequences(t_train, maxlen=MAX_SEQLEN, padding='post')\n",
    "\n",
    "    X_test = pad_sequences(s_test, maxlen=MAX_SEQLEN, padding='post', truncating = 'post')\n",
    "    Y_test = pad_sequences(t_test, maxlen=MAX_SEQLEN, padding='post', truncating = 'post')\n",
    "    \n",
    "    return X_train, Y_train, X_test, Y_test"
   ]
  },
  {
   "cell_type": "code",
   "execution_count": 110,
   "metadata": {},
   "outputs": [],
   "source": [
    "s_train_g, t_train_g = to_num(sent_train_g, word2index_g), to_num(tag_train_g, tag2index_g)\n",
    "s_test_g, t_test_g = to_num(sent_test_g, word2index_g), to_num(tag_test_g, tag2index_g)\n",
    "X_train_g, Y_train_g, X_test_g, Y_test_g = padding(s_train_g, t_train_g, s_test_g, t_test_g, MAX_SEQLEN_g)"
   ]
  },
  {
   "cell_type": "code",
   "execution_count": 111,
   "metadata": {},
   "outputs": [],
   "source": [
    "s_train_n, t_train_n = to_num(sent_train_n, word2index_n), to_num(tag_train_n, tag2index_n)\n",
    "s_test_n, t_test_n = to_num(sent_test_n, word2index_n), to_num(tag_test_n, tag2index_n)\n",
    "X_train_n, Y_train_n, X_test_n, Y_test_n = padding(s_train_n, t_train_n, s_test_n, t_test_n, MAX_SEQLEN_n)"
   ]
  },
  {
   "cell_type": "code",
   "execution_count": 143,
   "metadata": {},
   "outputs": [],
   "source": [
    "from matplotlib.patches import Rectangle"
   ]
  },
  {
   "cell_type": "code",
   "execution_count": 165,
   "metadata": {},
   "outputs": [
    {
     "name": "stdout",
     "output_type": "stream",
     "text": [
      "[('PAD', 0), ('PRON', 1), ('PART', 2), ('NOUN', 3), ('VERB', 4), ('ADJ', 5), ('PUNCT', 6), ('ADP', 7), ('ADV', 8), ('DET', 9), ('CCONJ', 10), ('SCONJ', 11), ('INTJ', 12), ('X', 13), ('NUM', 14)]\n"
     ]
    },
    {
     "data": {
      "image/png": "[encoded data removed]",
      "text/plain": [
       "<matplotlib.figure.Figure at 0x7399b77320>"
      ]
     },
     "metadata": {},
     "output_type": "display_data"
    }
   ],
   "source": [
    "print(tag_sort)\n",
    "\n",
    "tags_g = [p for sent in Y_train_g for p in sent]\n",
    "num_bins = len(tag2index_g)\n",
    "n, bins, patches = plt.hist(tags_g, num_bins, facecolor='blue', alpha=0.5)\n",
    "x1,x2,y1,y2 = plt.axis()\n",
    "plt.axis([0, num_bins,y1,y2])\n",
    "plt.xlabel(\"PoS-tag\")\n",
    "plt.ylabel(\"number\")\n",
    "plt.xticks([i for i in range(num_bins)])\n",
    "\n",
    "plt.show()"
   ]
  },
  {
   "cell_type": "code",
   "execution_count": 131,
   "metadata": {},
   "outputs": [],
   "source": [
    "X_train_g, X_val_g, Y_train_g, Y_val_g = train_test_split(X_train_g, Y_train_g, test_size=0.2, random_state=42)\n",
    "X_train_n, X_val_n, Y_train_n, Y_val_n = train_test_split(X_train_n, Y_train_n, test_size=0.2, random_state=42)"
   ]
  },
  {
   "cell_type": "code",
   "execution_count": 30,
   "metadata": {},
   "outputs": [
    {
     "data": {
      "text/plain": [
       "((9180, 45), (1306, 45))"
      ]
     },
     "execution_count": 30,
     "metadata": {},
     "output_type": "execute_result"
    }
   ],
   "source": [
    "Y_train_g.shape, Y_test_g.shape"
   ]
  },
  {
   "cell_type": "markdown",
   "metadata": {},
   "source": [
    "Напишем функцию, чтобы быстро строить модель и не копировать похожую часть, изменяя только один слой:"
   ]
  },
  {
   "cell_type": "code",
   "execution_count": 31,
   "metadata": {},
   "outputs": [],
   "source": [
    "def make_model(S_MAX_FEATURES, T_MAX_FEATURES, MAX_SEQLEN, LSTM_flag = False, GRU_flag = False, LSTM_Bi = False, Simple = False, EMBEDDING_SIZE = EMB_SIZE):\n",
    "    global HIDDEN_SIZE\n",
    "    model = Sequential()\n",
    "    model.add(Embedding(S_MAX_FEATURES, EMBEDDING_SIZE, \n",
    "                        input_length=MAX_SEQLEN))\n",
    "    if LSTM_flag == True:\n",
    "        model.add(LSTM(HIDDEN_SIZE, dropout=0.2, recurrent_dropout=0.2, return_sequences=True))\n",
    "    elif GRU_flag == True:\n",
    "        model.add(GRU(HIDDEN_SIZE, dropout=0.2, recurrent_dropout=0.2, return_sequences=True))\n",
    "    elif LSTM_Bi == True:\n",
    "        model.add(Bidirectional(LSTM(HIDDEN_SIZE, dropout=0.2, recurrent_dropout=0.2, return_sequences=True)))\n",
    "    elif Simple == True:\n",
    "        model.add(SimpleRNN(HIDDEN_SIZE, \n",
    "                    input_shape=(MAX_SEQLEN, S_MAX_FEATURES),\n",
    "                    unroll=True, dropout=0.2, recurrent_dropout=0.2, return_sequences=True))\n",
    "        \n",
    "    model.add(Dense(T_MAX_FEATURES))\n",
    "    model.add(Activation(\"softmax\"))\n",
    "\n",
    "    model.compile(loss=\"categorical_crossentropy\", optimizer=\"adam\", \n",
    "                  metrics=[\"acc\"])\n",
    "\n",
    "    print(model.summary())\n",
    "    return model"
   ]
  },
  {
   "cell_type": "markdown",
   "metadata": {},
   "source": [
    "### LSTM"
   ]
  },
  {
   "cell_type": "markdown",
   "metadata": {},
   "source": [
    "Для древнегреческого:"
   ]
  },
  {
   "cell_type": "code",
   "execution_count": 32,
   "metadata": {},
   "outputs": [
    {
     "name": "stdout",
     "output_type": "stream",
     "text": [
      "_________________________________________________________________\n",
      "Layer (type)                 Output Shape              Param #   \n",
      "=================================================================\n",
      "embedding_1 (Embedding)      (None, 45, 150)           5278200   \n",
      "_________________________________________________________________\n",
      "lstm_1 (LSTM)                (None, 45, 64)            55040     \n",
      "_________________________________________________________________\n",
      "dense_1 (Dense)              (None, 45, 15)            975       \n",
      "_________________________________________________________________\n",
      "activation_1 (Activation)    (None, 45, 15)            0         \n",
      "=================================================================\n",
      "Total params: 5,334,215\n",
      "Trainable params: 5,334,215\n",
      "Non-trainable params: 0\n",
      "_________________________________________________________________\n",
      "None\n",
      "Train on 9180 samples, validate on 2296 samples\n",
      "Epoch 1/10\n",
      "9180/9180 [==============================] - 22s 2ms/step - loss: 1.6836 - acc: 0.6458 - val_loss: 0.9217 - val_acc: 0.6938\n",
      "Epoch 2/10\n",
      "9180/9180 [==============================] - 18s 2ms/step - loss: 0.8742 - acc: 0.7167 - val_loss: 0.8255 - val_acc: 0.7134\n",
      "Epoch 3/10\n",
      "9180/9180 [==============================] - 19s 2ms/step - loss: 0.8057 - acc: 0.7302 - val_loss: 0.7536 - val_acc: 0.7510\n",
      "Epoch 4/10\n",
      "9180/9180 [==============================] - 18s 2ms/step - loss: 0.7285 - acc: 0.7612 - val_loss: 0.6806 - val_acc: 0.7775\n",
      "Epoch 5/10\n",
      "9180/9180 [==============================] - 18s 2ms/step - loss: 0.6595 - acc: 0.7811 - val_loss: 0.6208 - val_acc: 0.7888\n",
      "Epoch 6/10\n",
      "9180/9180 [==============================] - 18s 2ms/step - loss: 0.5990 - acc: 0.8014 - val_loss: 0.5607 - val_acc: 0.8054\n",
      "Epoch 7/10\n",
      "9180/9180 [==============================] - 17s 2ms/step - loss: 0.5331 - acc: 0.8229 - val_loss: 0.4928 - val_acc: 0.8383\n",
      "Epoch 8/10\n",
      "9180/9180 [==============================] - 17s 2ms/step - loss: 0.4480 - acc: 0.8672 - val_loss: 0.3977 - val_acc: 0.8878\n",
      "Epoch 9/10\n",
      "9180/9180 [==============================] - 17s 2ms/step - loss: 0.3370 - acc: 0.9204 - val_loss: 0.2950 - val_acc: 0.9325\n",
      "Epoch 10/10\n",
      "9180/9180 [==============================] - 18s 2ms/step - loss: 0.2322 - acc: 0.9572 - val_loss: 0.2190 - val_acc: 0.9488\n"
     ]
    }
   ],
   "source": [
    "model_g_lstm = make_model(S_MAX_FEATURES_g, T_MAX_FEATURES_g, MAX_SEQLEN_g, LSTM_flag = True)\n",
    "history_g_lstm = model_g_lstm.fit(X_train_g, to_categorical(Y_train_g), batch_size=BATCH_SIZE, \n",
    "                    epochs=NUM_EPOCHS,\n",
    "                    validation_data=(X_val_g, to_categorical(Y_val_g)))"
   ]
  },
  {
   "cell_type": "code",
   "execution_count": 33,
   "metadata": {},
   "outputs": [
    {
     "name": "stdout",
     "output_type": "stream",
     "text": [
      "_________________________________________________________________\n",
      "Layer (type)                 Output Shape              Param #   \n",
      "=================================================================\n",
      "embedding_2 (Embedding)      (None, 50, 150)           4511100   \n",
      "_________________________________________________________________\n",
      "lstm_2 (LSTM)                (None, 50, 64)            55040     \n",
      "_________________________________________________________________\n",
      "dense_2 (Dense)              (None, 50, 18)            1170      \n",
      "_________________________________________________________________\n",
      "activation_2 (Activation)    (None, 50, 18)            0         \n",
      "=================================================================\n",
      "Total params: 4,567,310\n",
      "Trainable params: 4,567,310\n",
      "Non-trainable params: 0\n",
      "_________________________________________________________________\n",
      "None\n",
      "Train on 12556 samples, validate on 3140 samples\n",
      "Epoch 1/10\n",
      "12556/12556 [==============================] - 28s 2ms/step - loss: 1.5479 - acc: 0.6819 - val_loss: 0.9441 - val_acc: 0.7214\n",
      "Epoch 2/10\n",
      "12556/12556 [==============================] - 25s 2ms/step - loss: 0.8939 - acc: 0.7137 - val_loss: 0.8514 - val_acc: 0.7209\n",
      "Epoch 3/10\n",
      "12556/12556 [==============================] - 25s 2ms/step - loss: 0.8088 - acc: 0.7450 - val_loss: 0.7597 - val_acc: 0.7690\n",
      "Epoch 4/10\n",
      "12556/12556 [==============================] - 27s 2ms/step - loss: 0.7151 - acc: 0.7834 - val_loss: 0.6615 - val_acc: 0.8087\n",
      "Epoch 5/10\n",
      "12556/12556 [==============================] - 30s 2ms/step - loss: 0.5960 - acc: 0.8369 - val_loss: 0.5176 - val_acc: 0.8611\n",
      "Epoch 6/10\n",
      "12556/12556 [==============================] - 30s 2ms/step - loss: 0.4389 - acc: 0.8787 - val_loss: 0.3617 - val_acc: 0.9006\n",
      "Epoch 7/10\n",
      "12556/12556 [==============================] - 29s 2ms/step - loss: 0.2919 - acc: 0.9256 - val_loss: 0.2374 - val_acc: 0.9446\n",
      "Epoch 8/10\n",
      "12556/12556 [==============================] - 29s 2ms/step - loss: 0.1837 - acc: 0.9617 - val_loss: 0.1657 - val_acc: 0.9619\n",
      "Epoch 9/10\n",
      "12556/12556 [==============================] - 28s 2ms/step - loss: 0.1242 - acc: 0.9734 - val_loss: 0.1316 - val_acc: 0.9677\n",
      "Epoch 10/10\n",
      "12556/12556 [==============================] - 27s 2ms/step - loss: 0.0936 - acc: 0.9787 - val_loss: 0.1145 - val_acc: 0.9698\n"
     ]
    }
   ],
   "source": [
    "model_n_lstm = make_model(S_MAX_FEATURES_n, T_MAX_FEATURES_n, MAX_SEQLEN_n, LSTM_flag = True)\n",
    "history_n = model_n_lstm.fit(X_train_n, to_categorical(Y_train_n), batch_size=BATCH_SIZE, \n",
    "                    epochs=NUM_EPOCHS,\n",
    "                    validation_data=(X_val_n, to_categorical(Y_val_n)))"
   ]
  },
  {
   "cell_type": "code",
   "execution_count": 34,
   "metadata": {},
   "outputs": [
    {
     "name": "stderr",
     "output_type": "stream",
     "text": [
      "UsageError: Line magic function `%matplotlib.inline` not found.\n"
     ]
    }
   ],
   "source": [
    "import matplotlib.pyplot as plt\n",
    "%matplotlib.inline"
   ]
  },
  {
   "cell_type": "code",
   "execution_count": 35,
   "metadata": {},
   "outputs": [],
   "source": [
    "def plotting(history):\n",
    "    plt.subplot(211)\n",
    "    plt.title(\"Accuracy\")\n",
    "    plt.plot(history.history[\"acc\"], color=\"r\", label=\"Train\")\n",
    "    plt.plot(history.history[\"val_acc\"], color=\"b\", label=\"Val\")\n",
    "    plt.legend(loc=\"best\")\n",
    "\n",
    "    plt.subplot(212)\n",
    "    plt.title(\"Loss\")\n",
    "    plt.plot(history.history[\"loss\"], color=\"r\", label=\"Train\")\n",
    "    plt.plot(history.history[\"val_loss\"], color=\"b\", label=\"Val\")\n",
    "    plt.legend(loc=\"best\")\n",
    "\n",
    "    plt.tight_layout()\n",
    "    plt.show()"
   ]
  },
  {
   "cell_type": "code",
   "execution_count": 36,
   "metadata": {},
   "outputs": [
    {
     "data": {
      "image/png": "[encoded data removed]",
      "text/plain": [
       "<matplotlib.figure.Figure at 0x73cf7aca90>"
      ]
     },
     "metadata": {},
     "output_type": "display_data"
    }
   ],
   "source": [
    "plotting(history_g_lstm)"
   ]
  },
  {
   "cell_type": "code",
   "execution_count": 37,
   "metadata": {},
   "outputs": [
    {
     "data": {
      "image/png": "[encoded data removed]",
      "text/plain": [
       "<matplotlib.figure.Figure at 0x73cf81db38>"
      ]
     },
     "metadata": {},
     "output_type": "display_data"
    }
   ],
   "source": [
    "plotting(history_n)"
   ]
  },
  {
   "cell_type": "code",
   "execution_count": 38,
   "metadata": {},
   "outputs": [
    {
     "name": "stdout",
     "output_type": "stream",
     "text": [
      "1306/1306 [==============================] - 1s 564us/step\n",
      "Test score: 0.230, accuracy: 94.679\n"
     ]
    }
   ],
   "source": [
    "score, acc = model_g_lstm.evaluate(X_test_g, to_categorical(Y_test_g))\n",
    "print(\"Test score: %.3f, accuracy: %.3f\" % (score, acc*100))"
   ]
  },
  {
   "cell_type": "code",
   "execution_count": 39,
   "metadata": {},
   "outputs": [
    {
     "name": "stdout",
     "output_type": "stream",
     "text": [
      "1939/1939 [==============================] - 1s 584us/step\n",
      "Test score: 0.134, accuracy: 96.460\n"
     ]
    }
   ],
   "source": [
    "score, acc = model_n_lstm.evaluate(X_test_n, to_categorical(Y_test_n))\n",
    "print(\"Test score: %.3f, accuracy: %.3f\" % (score, acc*100))"
   ]
  },
  {
   "cell_type": "code",
   "execution_count": 40,
   "metadata": {},
   "outputs": [],
   "source": [
    "def predict(X_test, Y_test, MAX_SEQLEN, tag2index, model):\n",
    "    for i in range(5):\n",
    "        idx = np.random.randint(len(X_test))\n",
    "        xtest = X_test[idx].reshape(1, MAX_SEQLEN)\n",
    "        ylabel = Y_test[idx]\n",
    "        pred = model.predict(xtest)[0]\n",
    "        predict = [np.argmax(k, axis=None, out=None) for k in pred]\n",
    "        tags_pred = []\n",
    "        tags_ans = []\n",
    "        for p in predict:\n",
    "            tags_pred.extend([k for k,v in tag2index.items() if v == p])\n",
    "        for t in ylabel:\n",
    "            tags_ans.extend([k for k,v in tag2index.items() if v == t])\n",
    "        print(\"Random Sent {}:\".format(i+1), *[pair for pair in zip(tags_pred[:tags_pred.index('PAD')], tags_ans[:tags_ans.index('PAD')])], sep = \"\\n\", end=\"\\n_________\\n\")"
   ]
  },
  {
   "cell_type": "code",
   "execution_count": 41,
   "metadata": {},
   "outputs": [
    {
     "name": "stdout",
     "output_type": "stream",
     "text": [
      "Random Sent 1:\n",
      "('ADV', 'CCONJ')\n",
      "('PRON', 'PRON')\n",
      "('VERB', 'VERB')\n",
      "('NOUN', 'NOUN')\n",
      "('ADJ', 'ADJ')\n",
      "('VERB', 'VERB')\n",
      "('PUNCT', 'PUNCT')\n",
      "_________\n",
      "Random Sent 2:\n",
      "('VERB', 'VERB')\n",
      "('PART', 'PART')\n",
      "('PRON', 'PRON')\n",
      "('NOUN', 'NOUN')\n",
      "('VERB', 'VERB')\n",
      "('PUNCT', 'PUNCT')\n",
      "_________\n",
      "Random Sent 3:\n",
      "('VERB', 'VERB')\n",
      "('PART', 'PART')\n",
      "('VERB', 'ADJ')\n",
      "('PART', 'PART')\n",
      "('PUNCT', 'PUNCT')\n",
      "('VERB', 'ADJ')\n",
      "('VERB', 'VERB')\n",
      "('NOUN', 'NOUN')\n",
      "('NOUN', 'NOUN')\n",
      "('PUNCT', 'PUNCT')\n",
      "('PRON', 'DET')\n",
      "('NOUN', 'NOUN')\n",
      "('NOUN', 'NOUN')\n",
      "('VERB', 'VERB')\n",
      "('PUNCT', 'PUNCT')\n",
      "_________\n",
      "Random Sent 4:\n",
      "('PRON', 'PRON')\n",
      "('PART', 'PART')\n",
      "('VERB', 'VERB')\n",
      "('VERB', 'VERB')\n",
      "('ADP', 'ADP')\n",
      "('ADJ', 'ADJ')\n",
      "('NOUN', 'NOUN')\n",
      "('PUNCT', 'PUNCT')\n",
      "('ADV', 'ADV')\n",
      "('PART', 'PART')\n",
      "('VERB', 'VERB')\n",
      "('NOUN', 'NOUN')\n",
      "('VERB', 'ADJ')\n",
      "('ADP', 'ADV')\n",
      "('ADJ', 'ADJ')\n",
      "('ADJ', 'ADP')\n",
      "('PART', 'PART')\n",
      "('VERB', 'VERB')\n",
      "('PUNCT', 'PUNCT')\n",
      "('ADP', 'ADP')\n",
      "('PART', 'PART')\n",
      "('PRON', 'PRON')\n",
      "('ADJ', 'ADJ')\n",
      "('NOUN', 'NOUN')\n",
      "('VERB', 'VERB')\n",
      "('PUNCT', 'PUNCT')\n",
      "_________\n",
      "Random Sent 5:\n",
      "('ADJ', 'ADJ')\n",
      "('PART', 'ADV')\n",
      "('PRON', 'PRON')\n",
      "('VERB', 'VERB')\n",
      "('DET', 'DET')\n",
      "('NOUN', 'NOUN')\n",
      "('PRON', 'PRON')\n",
      "('PUNCT', 'PUNCT')\n",
      "_________\n"
     ]
    }
   ],
   "source": [
    "predict(X_test_g, Y_test_g, MAX_SEQLEN_g, tag2index_g, model_g_lstm)"
   ]
  },
  {
   "cell_type": "code",
   "execution_count": 42,
   "metadata": {},
   "outputs": [
    {
     "name": "stdout",
     "output_type": "stream",
     "text": [
      "Random Sent 1:\n",
      "('NOUN', 'NOUN')\n",
      "('VERB', 'VERB')\n",
      "('NOUN', 'PROPN')\n",
      "('PUNCT', 'PUNCT')\n",
      "_________\n",
      "Random Sent 2:\n",
      "('NOUN', 'NOUN')\n",
      "('VERB', 'VERB')\n",
      "('NOUN', 'NOUN')\n",
      "('PUNCT', 'PUNCT')\n",
      "_________\n",
      "Random Sent 3:\n",
      "('NOUN', 'NOUN')\n",
      "('AUX', 'AUX')\n",
      "('AUX', 'AUX')\n",
      "('ADV', 'ADV')\n",
      "('ADJ', 'ADJ')\n",
      "('PUNCT', 'PUNCT')\n",
      "('CCONJ', 'CCONJ')\n",
      "('AUX', 'VERB')\n",
      "('PART', 'PART')\n",
      "('ADP', 'ADP')\n",
      "('ADP', 'ADP')\n",
      "('DET', 'DET')\n",
      "('NOUN', 'NOUN')\n",
      "('ADP', 'ADP')\n",
      "('ADJ', 'ADJ')\n",
      "('NOUN', 'NOUN')\n",
      "('CCONJ', 'CCONJ')\n",
      "('NOUN', 'NOUN')\n",
      "('ADP', 'ADP')\n",
      "('NOUN', 'NOUN')\n",
      "('PUNCT', 'PUNCT')\n",
      "_________\n",
      "Random Sent 4:\n",
      "('NOUN', 'NUM')\n",
      "('PUNCT', 'PUNCT')\n",
      "_________\n",
      "Random Sent 5:\n",
      "('PRON', 'PRON')\n",
      "('AUX', 'AUX')\n",
      "('NOUN', 'PROPN')\n",
      "('PRON', 'PRON')\n",
      "('AUX', 'AUX')\n",
      "('VERB', 'VERB')\n",
      "('NOUN', 'NOUN')\n",
      "('ADP', 'ADP')\n",
      "('NOUN', 'NOUN')\n",
      "('PUNCT', 'PUNCT')\n",
      "_________\n"
     ]
    }
   ],
   "source": [
    "predict(X_test_n, Y_test_n, MAX_SEQLEN_n, tag2index_n, model_n_lstm)"
   ]
  },
  {
   "cell_type": "markdown",
   "metadata": {},
   "source": [
    "### SimpleRNN"
   ]
  },
  {
   "cell_type": "code",
   "execution_count": 43,
   "metadata": {},
   "outputs": [
    {
     "name": "stdout",
     "output_type": "stream",
     "text": [
      "_________________________________________________________________\n",
      "Layer (type)                 Output Shape              Param #   \n",
      "=================================================================\n",
      "embedding_3 (Embedding)      (None, 45, 150)           5278200   \n",
      "_________________________________________________________________\n",
      "simple_rnn_1 (SimpleRNN)     (None, 45, 64)            13760     \n",
      "_________________________________________________________________\n",
      "dense_3 (Dense)              (None, 45, 15)            975       \n",
      "_________________________________________________________________\n",
      "activation_3 (Activation)    (None, 45, 15)            0         \n",
      "=================================================================\n",
      "Total params: 5,292,935\n",
      "Trainable params: 5,292,935\n",
      "Non-trainable params: 0\n",
      "_________________________________________________________________\n",
      "None\n",
      "Train on 9180 samples, validate on 2296 samples\n",
      "Epoch 1/10\n",
      "9180/9180 [==============================] - 14s 2ms/step - loss: 1.4920 - acc: 0.6093 - val_loss: 0.8887 - val_acc: 0.7264\n",
      "Epoch 2/10\n",
      "9180/9180 [==============================] - 11s 1ms/step - loss: 0.8671 - acc: 0.7362 - val_loss: 0.7447 - val_acc: 0.7914\n",
      "Epoch 3/10\n",
      "9180/9180 [==============================] - 11s 1ms/step - loss: 0.7287 - acc: 0.7892 - val_loss: 0.6493 - val_acc: 0.8189\n",
      "Epoch 4/10\n",
      "9180/9180 [==============================] - 11s 1ms/step - loss: 0.6369 - acc: 0.8173 - val_loss: 0.5769 - val_acc: 0.8295\n",
      "Epoch 5/10\n",
      "9180/9180 [==============================] - 11s 1ms/step - loss: 0.5663 - acc: 0.8363 - val_loss: 0.5202 - val_acc: 0.8459\n",
      "Epoch 6/10\n",
      "9180/9180 [==============================] - 11s 1ms/step - loss: 0.5060 - acc: 0.8568 - val_loss: 0.4649 - val_acc: 0.8644\n",
      "Epoch 7/10\n",
      "9180/9180 [==============================] - 11s 1ms/step - loss: 0.4400 - acc: 0.8829 - val_loss: 0.3997 - val_acc: 0.8898\n",
      "Epoch 8/10\n",
      "9180/9180 [==============================] - 11s 1ms/step - loss: 0.3618 - acc: 0.9129 - val_loss: 0.3271 - val_acc: 0.9163\n",
      "Epoch 9/10\n",
      "9180/9180 [==============================] - 11s 1ms/step - loss: 0.2785 - acc: 0.9409 - val_loss: 0.2592 - val_acc: 0.9353\n",
      "Epoch 10/10\n",
      "9180/9180 [==============================] - 12s 1ms/step - loss: 0.2057 - acc: 0.9591 - val_loss: 0.2081 - val_acc: 0.9454\n"
     ]
    }
   ],
   "source": [
    "model_simple_g = make_model(S_MAX_FEATURES_g, T_MAX_FEATURES_g, MAX_SEQLEN_g, Simple = True)\n",
    "history_simple_g = model_simple_g.fit(X_train_g, to_categorical(Y_train_g), batch_size=BATCH_SIZE, \n",
    "                    epochs=NUM_EPOCHS,\n",
    "                    validation_data=(X_val_g, to_categorical(Y_val_g)))"
   ]
  },
  {
   "cell_type": "code",
   "execution_count": 44,
   "metadata": {},
   "outputs": [
    {
     "name": "stdout",
     "output_type": "stream",
     "text": [
      "_________________________________________________________________\n",
      "Layer (type)                 Output Shape              Param #   \n",
      "=================================================================\n",
      "embedding_4 (Embedding)      (None, 50, 150)           4511100   \n",
      "_________________________________________________________________\n",
      "simple_rnn_2 (SimpleRNN)     (None, 50, 64)            13760     \n",
      "_________________________________________________________________\n",
      "dense_4 (Dense)              (None, 50, 18)            1170      \n",
      "_________________________________________________________________\n",
      "activation_4 (Activation)    (None, 50, 18)            0         \n",
      "=================================================================\n",
      "Total params: 4,526,030\n",
      "Trainable params: 4,526,030\n",
      "Non-trainable params: 0\n",
      "_________________________________________________________________\n",
      "None\n",
      "Train on 12556 samples, validate on 3140 samples\n",
      "Epoch 1/10\n",
      "12556/12556 [==============================] - 19s 2ms/step - loss: 1.4974 - acc: 0.6241 - val_loss: 0.8901 - val_acc: 0.7340\n",
      "Epoch 2/10\n",
      "12556/12556 [==============================] - 16s 1ms/step - loss: 0.8510 - acc: 0.7610 - val_loss: 0.7330 - val_acc: 0.8077\n",
      "Epoch 3/10\n",
      "12556/12556 [==============================] - 15s 1ms/step - loss: 0.6821 - acc: 0.8313 - val_loss: 0.5865 - val_acc: 0.8596\n",
      "Epoch 4/10\n",
      "12556/12556 [==============================] - 15s 1ms/step - loss: 0.5355 - acc: 0.8742 - val_loss: 0.4512 - val_acc: 0.8897\n",
      "Epoch 5/10\n",
      "12556/12556 [==============================] - 15s 1ms/step - loss: 0.4024 - acc: 0.9066 - val_loss: 0.3315 - val_acc: 0.9221\n",
      "Epoch 6/10\n",
      "12556/12556 [==============================] - 15s 1ms/step - loss: 0.2878 - acc: 0.9371 - val_loss: 0.2384 - val_acc: 0.9459\n",
      "Epoch 7/10\n",
      "12556/12556 [==============================] - 16s 1ms/step - loss: 0.2023 - acc: 0.9577 - val_loss: 0.1787 - val_acc: 0.9586\n",
      "Epoch 8/10\n",
      "12556/12556 [==============================] - 15s 1ms/step - loss: 0.1464 - acc: 0.9695 - val_loss: 0.1432 - val_acc: 0.9644\n",
      "Epoch 9/10\n",
      "12556/12556 [==============================] - 16s 1ms/step - loss: 0.1108 - acc: 0.9752 - val_loss: 0.1226 - val_acc: 0.9669\n",
      "Epoch 10/10\n",
      "12556/12556 [==============================] - 16s 1ms/step - loss: 0.0885 - acc: 0.9785 - val_loss: 0.1098 - val_acc: 0.9687\n"
     ]
    }
   ],
   "source": [
    "model_simple_n = make_model(S_MAX_FEATURES_n, T_MAX_FEATURES_n, MAX_SEQLEN_n, Simple = True)\n",
    "history_simple_n = model_simple_n.fit(X_train_n, to_categorical(Y_train_n), batch_size=BATCH_SIZE, \n",
    "                    epochs=NUM_EPOCHS,\n",
    "                    validation_data=(X_val_n, to_categorical(Y_val_n)))"
   ]
  },
  {
   "cell_type": "code",
   "execution_count": 45,
   "metadata": {},
   "outputs": [
    {
     "data": {
      "image/png": "[encoded data removed]",
      "text/plain": [
       "<matplotlib.figure.Figure at 0x73cf8c6278>"
      ]
     },
     "metadata": {},
     "output_type": "display_data"
    }
   ],
   "source": [
    "plotting(history_simple_g)"
   ]
  },
  {
   "cell_type": "code",
   "execution_count": 46,
   "metadata": {},
   "outputs": [
    {
     "data": {
      "image/png": "[encoded data removed]",
      "text/plain": [
       "<matplotlib.figure.Figure at 0x73d6367898>"
      ]
     },
     "metadata": {},
     "output_type": "display_data"
    }
   ],
   "source": [
    "plotting(history_simple_n)"
   ]
  },
  {
   "cell_type": "code",
   "execution_count": 47,
   "metadata": {},
   "outputs": [
    {
     "name": "stdout",
     "output_type": "stream",
     "text": [
      "1306/1306 [==============================] - 0s 325us/step\n",
      "Test score: 0.220, accuracy: 94.220\n"
     ]
    }
   ],
   "source": [
    "score, acc = model_simple_g.evaluate(X_test_g, to_categorical(Y_test_g))\n",
    "print(\"Test score: %.3f, accuracy: %.3f\" % (score, acc*100))"
   ]
  },
  {
   "cell_type": "code",
   "execution_count": 48,
   "metadata": {},
   "outputs": [
    {
     "name": "stdout",
     "output_type": "stream",
     "text": [
      "1939/1939 [==============================] - 1s 328us/step\n",
      "Test score: 0.133, accuracy: 96.081\n"
     ]
    }
   ],
   "source": [
    "score, acc = model_simple_n.evaluate(X_test_n, to_categorical(Y_test_n))\n",
    "print(\"Test score: %.3f, accuracy: %.3f\" % (score, acc*100))"
   ]
  },
  {
   "cell_type": "code",
   "execution_count": 52,
   "metadata": {},
   "outputs": [
    {
     "name": "stdout",
     "output_type": "stream",
     "text": [
      "Random Sent 1:\n",
      "('ADV', 'ADV')\n",
      "('NOUN', 'NOUN')\n",
      "('ADV', 'ADV')\n",
      "('DET', 'DET')\n",
      "('ADJ', 'ADJ')\n",
      "('PUNCT', 'PUNCT')\n",
      "('ADV', 'SCONJ')\n",
      "('VERB', 'VERB')\n",
      "('NOUN', 'NOUN')\n",
      "('DET', 'DET')\n",
      "('NOUN', 'ADJ')\n",
      "('PUNCT', 'PUNCT')\n",
      "('ADP', 'ADP')\n",
      "('NOUN', 'NOUN')\n",
      "('VERB', 'VERB')\n",
      "('NOUN', 'NOUN')\n",
      "('ADP', 'ADP')\n",
      "('DET', 'DET')\n",
      "('NOUN', 'NOUN')\n",
      "('ADP', 'ADP')\n",
      "('ADJ', 'ADJ')\n",
      "('ADJ', 'NOUN')\n",
      "('ADV', 'CCONJ')\n",
      "('ADJ', 'ADJ')\n",
      "('ADJ', 'ADJ')\n",
      "('DET', 'DET')\n",
      "('NOUN', 'VERB')\n",
      "('VERB', 'VERB')\n",
      "('NOUN', 'NOUN')\n",
      "('VERB', 'ADV')\n",
      "('VERB', 'VERB')\n",
      "('PUNCT', 'PUNCT')\n",
      "_________\n",
      "Random Sent 2:\n",
      "('ADP', 'ADP')\n",
      "('PART', 'PART')\n",
      "('VERB', 'NOUN')\n",
      "('VERB', 'VERB')\n",
      "('PUNCT', 'PUNCT')\n",
      "_________\n",
      "Random Sent 3:\n",
      "('NOUN', 'NOUN')\n",
      "('ADP', 'ADP')\n",
      "('PRON', 'ADJ')\n",
      "('VERB', 'VERB')\n",
      "('DET', 'DET')\n",
      "('NOUN', 'NOUN')\n",
      "('PUNCT', 'PUNCT')\n",
      "_________\n",
      "Random Sent 4:\n",
      "('DET', 'PRON')\n",
      "('ADV', 'PART')\n",
      "('NOUN', 'NOUN')\n",
      "('VERB', 'VERB')\n",
      "('ADJ', 'ADJ')\n",
      "('PUNCT', 'PUNCT')\n",
      "_________\n",
      "Random Sent 5:\n",
      "('ADV', 'ADV')\n",
      "('PART', 'PART')\n",
      "('VERB', 'VERB')\n",
      "('NOUN', 'NOUN')\n",
      "('ADJ', 'ADJ')\n",
      "('ADJ', 'PRON')\n",
      "('VERB', 'VERB')\n",
      "('PUNCT', 'PUNCT')\n",
      "('ADJ', 'ADJ')\n",
      "('PART', 'PART')\n",
      "('ADP', 'ADP')\n",
      "('NOUN', 'NOUN')\n",
      "('VERB', 'VERB')\n",
      "('PUNCT', 'PUNCT')\n",
      "_________\n"
     ]
    }
   ],
   "source": [
    "predict(X_test_g, Y_test_g, MAX_SEQLEN_g, tag2index_g, model_simple_g)"
   ]
  },
  {
   "cell_type": "code",
   "execution_count": 50,
   "metadata": {},
   "outputs": [
    {
     "name": "stdout",
     "output_type": "stream",
     "text": [
      "Random Sent 1:\n",
      "('PRON', 'DET')\n",
      "('ADJ', 'ADJ')\n",
      "('NOUN', 'NUM')\n",
      "('NOUN', 'NOUN')\n",
      "('AUX', 'AUX')\n",
      "('ADJ', 'PROPN')\n",
      "('ADJ', 'NUM')\n",
      "('PUNCT', 'PUNCT')\n",
      "('PROPN', 'NOUN')\n",
      "('PUNCT', 'PUNCT')\n",
      "('PROPN', 'NOUN')\n",
      "('PUNCT', 'PUNCT')\n",
      "('PROPN', 'NOUN')\n",
      "('PUNCT', 'PUNCT')\n",
      "('PROPN', 'NOUN')\n",
      "('CCONJ', 'CCONJ')\n",
      "('NOUN', 'NOUN')\n",
      "('AUX', 'VERB')\n",
      "('ADV', 'ADJ')\n",
      "('NOUN', 'NOUN')\n",
      "('ADP', 'ADP')\n",
      "('PROPN', 'PROPN')\n",
      "('PUNCT', 'PUNCT')\n",
      "_________\n",
      "Random Sent 2:\n",
      "('ADP', 'ADP')\n",
      "('ADP', 'ADP')\n",
      "('NOUN', 'NOUN')\n",
      "('AUX', 'VERB')\n",
      "('PRON', 'PRON')\n",
      "('ADJ', 'ADJ')\n",
      "('ADP', 'ADP')\n",
      "('NOUN', 'NOUN')\n",
      "('PUNCT', 'PUNCT')\n",
      "_________\n",
      "Random Sent 3:\n",
      "('PUNCT', 'PUNCT')\n",
      "('ADV', 'INTJ')\n",
      "('PUNCT', 'PUNCT')\n",
      "_________\n",
      "Random Sent 4:\n",
      "('CCONJ', 'CCONJ')\n",
      "('ADV', 'ADV')\n",
      "('VERB', 'VERB')\n",
      "('NOUN', 'NOUN')\n",
      "('ADJ', 'ADJ')\n",
      "('NOUN', 'NOUN')\n",
      "('ADP', 'ADP')\n",
      "('PROPN', 'NOUN')\n",
      "('PUNCT', 'PUNCT')\n",
      "_________\n",
      "Random Sent 5:\n",
      "('ADV', 'ADV')\n",
      "('ADJ', 'ADJ')\n",
      "('NOUN', 'NOUN')\n",
      "('AUX', 'VERB')\n",
      "('ADV', 'ADV')\n",
      "('ADJ', 'ADJ')\n",
      "('AUX', 'VERB')\n",
      "('NOUN', 'NOUN')\n",
      "('PUNCT', 'PUNCT')\n",
      "_________\n"
     ]
    }
   ],
   "source": [
    "predict(X_test_n, Y_test_n, MAX_SEQLEN_n, tag2index_n, model_simple_n)"
   ]
  },
  {
   "cell_type": "markdown",
   "metadata": {},
   "source": [
    "### Bidirectional"
   ]
  },
  {
   "cell_type": "code",
   "execution_count": 53,
   "metadata": {},
   "outputs": [
    {
     "name": "stdout",
     "output_type": "stream",
     "text": [
      "_________________________________________________________________\n",
      "Layer (type)                 Output Shape              Param #   \n",
      "=================================================================\n",
      "embedding_5 (Embedding)      (None, 45, 150)           5278200   \n",
      "_________________________________________________________________\n",
      "bidirectional_1 (Bidirection (None, 45, 128)           110080    \n",
      "_________________________________________________________________\n",
      "dense_5 (Dense)              (None, 45, 15)            1935      \n",
      "_________________________________________________________________\n",
      "activation_5 (Activation)    (None, 45, 15)            0         \n",
      "=================================================================\n",
      "Total params: 5,390,215\n",
      "Trainable params: 5,390,215\n",
      "Non-trainable params: 0\n",
      "_________________________________________________________________\n",
      "None\n",
      "Train on 9180 samples, validate on 2296 samples\n",
      "Epoch 1/10\n",
      "9180/9180 [==============================] - 37s 4ms/step - loss: 1.5196 - acc: 0.6631 - val_loss: 0.8392 - val_acc: 0.7281\n",
      "Epoch 2/10\n",
      "9180/9180 [==============================] - 33s 4ms/step - loss: 0.7898 - acc: 0.7394 - val_loss: 0.7257 - val_acc: 0.7564\n",
      "Epoch 3/10\n",
      "9180/9180 [==============================] - 34s 4ms/step - loss: 0.7000 - acc: 0.7661 - val_loss: 0.6488 - val_acc: 0.7776\n",
      "Epoch 4/10\n",
      "9180/9180 [==============================] - 36s 4ms/step - loss: 0.6198 - acc: 0.7894 - val_loss: 0.5628 - val_acc: 0.8222\n",
      "Epoch 5/10\n",
      "9180/9180 [==============================] - 37s 4ms/step - loss: 0.5153 - acc: 0.8395 - val_loss: 0.4428 - val_acc: 0.8695\n",
      "Epoch 6/10\n",
      "9180/9180 [==============================] - 37s 4ms/step - loss: 0.3764 - acc: 0.9048 - val_loss: 0.2997 - val_acc: 0.9251\n",
      "Epoch 7/10\n",
      "9180/9180 [==============================] - 38s 4ms/step - loss: 0.2346 - acc: 0.9479 - val_loss: 0.1968 - val_acc: 0.9457\n",
      "Epoch 8/10\n",
      "9180/9180 [==============================] - 38s 4ms/step - loss: 0.1425 - acc: 0.9694 - val_loss: 0.1493 - val_acc: 0.9545\n",
      "Epoch 9/10\n",
      "9180/9180 [==============================] - 38s 4ms/step - loss: 0.0958 - acc: 0.9781 - val_loss: 0.1289 - val_acc: 0.9574\n",
      "Epoch 10/10\n",
      "9180/9180 [==============================] - 38s 4ms/step - loss: 0.0730 - acc: 0.9813 - val_loss: 0.1186 - val_acc: 0.9588\n"
     ]
    }
   ],
   "source": [
    "model_bi_g = make_model(S_MAX_FEATURES_g, T_MAX_FEATURES_g, MAX_SEQLEN_g, LSTM_Bi = True)\n",
    "history_bi_g = model_bi_g.fit(X_train_g, to_categorical(Y_train_g), batch_size=BATCH_SIZE, \n",
    "                    epochs=NUM_EPOCHS,\n",
    "                    validation_data=(X_val_g, to_categorical(Y_val_g)))"
   ]
  },
  {
   "cell_type": "code",
   "execution_count": 54,
   "metadata": {},
   "outputs": [
    {
     "name": "stdout",
     "output_type": "stream",
     "text": [
      "_________________________________________________________________\n",
      "Layer (type)                 Output Shape              Param #   \n",
      "=================================================================\n",
      "embedding_6 (Embedding)      (None, 50, 150)           4511100   \n",
      "_________________________________________________________________\n",
      "bidirectional_2 (Bidirection (None, 50, 128)           110080    \n",
      "_________________________________________________________________\n",
      "dense_6 (Dense)              (None, 50, 18)            2322      \n",
      "_________________________________________________________________\n",
      "activation_6 (Activation)    (None, 50, 18)            0         \n",
      "=================================================================\n",
      "Total params: 4,623,502\n",
      "Trainable params: 4,623,502\n",
      "Non-trainable params: 0\n",
      "_________________________________________________________________\n",
      "None\n",
      "Train on 12556 samples, validate on 3140 samples\n",
      "Epoch 1/10\n",
      "12556/12556 [==============================] - 70s 6ms/step - loss: 1.3877 - acc: 0.6890 - val_loss: 0.8390 - val_acc: 0.7330\n",
      "Epoch 2/10\n",
      "12556/12556 [==============================] - 70s 6ms/step - loss: 0.7890 - acc: 0.7423 - val_loss: 0.7403 - val_acc: 0.7489\n",
      "Epoch 3/10\n",
      "12556/12556 [==============================] - 72s 6ms/step - loss: 0.7027 - acc: 0.7745 - val_loss: 0.6437 - val_acc: 0.8056\n",
      "Epoch 4/10\n",
      "12556/12556 [==============================] - 73s 6ms/step - loss: 0.5479 - acc: 0.8481 - val_loss: 0.4227 - val_acc: 0.8847\n",
      "Epoch 5/10\n",
      "12556/12556 [==============================] - 72s 6ms/step - loss: 0.3156 - acc: 0.9183 - val_loss: 0.2185 - val_acc: 0.9480\n",
      "Epoch 6/10\n",
      "12556/12556 [==============================] - 76s 6ms/step - loss: 0.1586 - acc: 0.9653 - val_loss: 0.1261 - val_acc: 0.9691\n",
      "Epoch 7/10\n",
      "12556/12556 [==============================] - 74s 6ms/step - loss: 0.0897 - acc: 0.9814 - val_loss: 0.0929 - val_acc: 0.9756\n",
      "Epoch 8/10\n",
      "12556/12556 [==============================] - 75s 6ms/step - loss: 0.0617 - acc: 0.9867 - val_loss: 0.0792 - val_acc: 0.9780\n",
      "Epoch 9/10\n",
      "12556/12556 [==============================] - 78s 6ms/step - loss: 0.0484 - acc: 0.9888 - val_loss: 0.0721 - val_acc: 0.9788\n",
      "Epoch 10/10\n",
      "12556/12556 [==============================] - 74s 6ms/step - loss: 0.0409 - acc: 0.9899 - val_loss: 0.0679 - val_acc: 0.9793\n"
     ]
    }
   ],
   "source": [
    "model_bi_n = make_model(S_MAX_FEATURES_n, T_MAX_FEATURES_n, MAX_SEQLEN_n, LSTM_Bi = True)\n",
    "history_bi_n = model_bi_n.fit(X_train_n, to_categorical(Y_train_n), batch_size=BATCH_SIZE, \n",
    "                    epochs=NUM_EPOCHS,\n",
    "                    validation_data=(X_val_n, to_categorical(Y_val_n)))"
   ]
  },
  {
   "cell_type": "code",
   "execution_count": 55,
   "metadata": {},
   "outputs": [
    {
     "data": {
      "image/png": "[encoded data removed]",
      "text/plain": [
       "<matplotlib.figure.Figure at 0x73d6401828>"
      ]
     },
     "metadata": {},
     "output_type": "display_data"
    }
   ],
   "source": [
    "plotting(history_bi_g)"
   ]
  },
  {
   "cell_type": "code",
   "execution_count": 56,
   "metadata": {},
   "outputs": [
    {
     "data": {
      "image/png": "[encoded data removed]",
      "text/plain": [
       "<matplotlib.figure.Figure at 0x73d6401a90>"
      ]
     },
     "metadata": {},
     "output_type": "display_data"
    }
   ],
   "source": [
    "plotting(history_bi_n)"
   ]
  },
  {
   "cell_type": "code",
   "execution_count": 57,
   "metadata": {},
   "outputs": [
    {
     "name": "stdout",
     "output_type": "stream",
     "text": [
      "1306/1306 [==============================] - 2s 1ms/step\n",
      "Test score: 0.128, accuracy: 95.562\n"
     ]
    }
   ],
   "source": [
    "score, acc = model_bi_g.evaluate(X_test_g, to_categorical(Y_test_g))\n",
    "print(\"Test score: %.3f, accuracy: %.3f\" % (score, acc*100))"
   ]
  },
  {
   "cell_type": "code",
   "execution_count": 58,
   "metadata": {},
   "outputs": [
    {
     "name": "stdout",
     "output_type": "stream",
     "text": [
      "1939/1939 [==============================] - 2s 1ms/step\n",
      "Test score: 0.083, accuracy: 97.366\n"
     ]
    }
   ],
   "source": [
    "score, acc = model_bi_n.evaluate(X_test_n, to_categorical(Y_test_n))\n",
    "print(\"Test score: %.3f, accuracy: %.3f\" % (score, acc*100))"
   ]
  },
  {
   "cell_type": "code",
   "execution_count": 59,
   "metadata": {},
   "outputs": [
    {
     "name": "stdout",
     "output_type": "stream",
     "text": [
      "Random Sent 1:\n",
      "('ADJ', 'ADJ')\n",
      "('VERB', 'VERB')\n",
      "('PUNCT', 'PUNCT')\n",
      "('ADJ', 'ADJ')\n",
      "('PUNCT', 'PUNCT')\n",
      "_________\n",
      "Random Sent 2:\n",
      "('ADV', 'ADV')\n",
      "('ADV', 'ADV')\n",
      "('NOUN', 'NOUN')\n",
      "('VERB', 'VERB')\n",
      "('ADJ', 'ADJ')\n",
      "('ADJ', 'ADJ')\n",
      "('VERB', 'VERB')\n",
      "('PUNCT', 'PUNCT')\n",
      "('PRON', 'PRON')\n",
      "('PART', 'PART')\n",
      "('ADJ', 'ADJ')\n",
      "('NOUN', 'NOUN')\n",
      "('VERB', 'VERB')\n",
      "('NOUN', 'NOUN')\n",
      "('CCONJ', 'CCONJ')\n",
      "('ADV', 'ADV')\n",
      "('CCONJ', 'ADV')\n",
      "('VERB', 'VERB')\n",
      "('PUNCT', 'PUNCT')\n",
      "_________\n",
      "Random Sent 3:\n",
      "('ADV', 'ADV')\n",
      "('ADV', 'ADV')\n",
      "('ADP', 'ADP')\n",
      "('PRON', 'PRON')\n",
      "('VERB', 'VERB')\n",
      "('DET', 'DET')\n",
      "('NOUN', 'NOUN')\n",
      "('VERB', 'VERB')\n",
      "('PUNCT', 'PUNCT')\n",
      "('DET', 'DET')\n",
      "('ADV', 'CCONJ')\n",
      "('SCONJ', 'SCONJ')\n",
      "('ADV', 'ADV')\n",
      "('NOUN', 'VERB')\n",
      "('DET', 'DET')\n",
      "('NOUN', 'NOUN')\n",
      "('VERB', 'VERB')\n",
      "('PUNCT', 'PUNCT')\n",
      "_________\n",
      "Random Sent 4:\n",
      "('PRON', 'PRON')\n",
      "('PART', 'PART')\n",
      "('ADP', 'ADP')\n",
      "('NOUN', 'NOUN')\n",
      "('ADJ', 'ADJ')\n",
      "('VERB', 'VERB')\n",
      "('PUNCT', 'PUNCT')\n",
      "_________\n",
      "Random Sent 5:\n",
      "('ADP', 'ADP')\n",
      "('ADV', 'ADV')\n",
      "('NOUN', 'NOUN')\n",
      "('VERB', 'VERB')\n",
      "('PUNCT', 'PUNCT')\n",
      "('SCONJ', 'SCONJ')\n",
      "('VERB', 'VERB')\n",
      "('PRON', 'PRON')\n",
      "('DET', 'DET')\n",
      "('ADJ', 'ADJ')\n",
      "('CCONJ', 'CCONJ')\n",
      "('VERB', 'VERB')\n",
      "('CCONJ', 'CCONJ')\n",
      "('NOUN', 'ADJ')\n",
      "('VERB', 'VERB')\n",
      "('PUNCT', 'PUNCT')\n",
      "_________\n"
     ]
    }
   ],
   "source": [
    "predict(X_test_g, Y_test_g, MAX_SEQLEN_g, tag2index_g, model_bi_g)"
   ]
  },
  {
   "cell_type": "code",
   "execution_count": 60,
   "metadata": {},
   "outputs": [
    {
     "name": "stdout",
     "output_type": "stream",
     "text": [
      "Random Sent 1:\n",
      "('PRON', 'PRON')\n",
      "('PRON', 'PRON')\n",
      "('AUX', 'AUX')\n",
      "('ADJ', 'ADJ')\n",
      "('ADP', 'ADP')\n",
      "('NOUN', 'PROPN')\n",
      "('PUNCT', 'PUNCT')\n",
      "('VERB', 'VERB')\n",
      "('SCONJ', 'SCONJ')\n",
      "('DET', 'DET')\n",
      "('NOUN', 'ADJ')\n",
      "('NOUN', 'NOUN')\n",
      "('VERB', 'VERB')\n",
      "('SCONJ', 'SCONJ')\n",
      "('SCONJ', 'SCONJ')\n",
      "('PRON', 'PRON')\n",
      "('ADV', 'ADV')\n",
      "('VERB', 'AUX')\n",
      "('VERB', 'VERB')\n",
      "('PUNCT', 'PUNCT')\n",
      "_________\n",
      "Random Sent 2:\n",
      "('NOUN', 'PROPN')\n",
      "('AUX', 'AUX')\n",
      "('VERB', 'VERB')\n",
      "('ADP', 'ADP')\n",
      "('NOUN', 'NOUN')\n",
      "('ADJ', 'ADJ')\n",
      "('NOUN', 'NOUN')\n",
      "('CCONJ', 'CCONJ')\n",
      "('VERB', 'VERB')\n",
      "('NOUN', 'NOUN')\n",
      "('ADP', 'ADP')\n",
      "('ADP', 'ADP')\n",
      "('DET', 'DET')\n",
      "('PROPN', 'PROPN')\n",
      "('PROPN', 'PROPN')\n",
      "('NOUN', 'NOUN')\n",
      "('ADP', 'ADP')\n",
      "('PROPN', 'PROPN')\n",
      "('PUNCT', 'PUNCT')\n",
      "_________\n",
      "Random Sent 3:\n",
      "('PRON', 'PRON')\n",
      "('VERB', 'VERB')\n",
      "('PART', 'PART')\n",
      "('VERB', 'VERB')\n",
      "('ADV', 'ADV')\n",
      "('PRON', 'PRON')\n",
      "('VERB', 'VERB')\n",
      "('ADP', 'ADP')\n",
      "('NOUN', 'NOUN')\n",
      "('PRON', 'PRON')\n",
      "('NOUN', 'VERB')\n",
      "('PUNCT', 'PUNCT')\n",
      "_________\n",
      "Random Sent 4:\n",
      "('ADP', 'ADP')\n",
      "('NOUN', 'NOUN')\n",
      "('AUX', 'VERB')\n",
      "('PRON', 'PRON')\n",
      "('NOUN', 'NOUN')\n",
      "('PRON', 'PRON')\n",
      "('NOUN', 'VERB')\n",
      "('ADP', 'ADP')\n",
      "('NOUN', 'NOUN')\n",
      "('NOUN', 'ADP')\n",
      "('CCONJ', 'CCONJ')\n",
      "('PRON', 'PRON')\n",
      "('NOUN', 'VERB')\n",
      "('ADP', 'ADP')\n",
      "('NOUN', 'NOUN')\n",
      "('ADP', 'ADP')\n",
      "('PUNCT', 'PUNCT')\n",
      "_________\n",
      "Random Sent 5:\n",
      "('PRON', 'PRON')\n",
      "('VERB', 'VERB')\n",
      "('ADV', 'ADV')\n",
      "('ADP', 'ADP')\n",
      "('VERB', 'NOUN')\n",
      "('SCONJ', 'SCONJ')\n",
      "('PRON', 'PRON')\n",
      "('AUX', 'AUX')\n",
      "('NUM', 'NUM')\n",
      "('NOUN', 'NOUN')\n",
      "('ADJ', 'ADJ')\n",
      "('ADP', 'ADP')\n",
      "('PRON', 'PRON')\n",
      "('PUNCT', 'PUNCT')\n",
      "('CCONJ', 'CCONJ')\n",
      "('PRON', 'PRON')\n",
      "('VERB', 'VERB')\n",
      "('PART', 'PART')\n",
      "('ADP', 'ADP')\n",
      "('DET', 'PRON')\n",
      "('DET', 'DET')\n",
      "('NOUN', 'NOUN')\n",
      "('PUNCT', 'PUNCT')\n",
      "_________\n"
     ]
    }
   ],
   "source": [
    "predict(X_test_n, Y_test_n, MAX_SEQLEN_n, tag2index_n, model_bi_n)"
   ]
  },
  {
   "cell_type": "markdown",
   "metadata": {},
   "source": [
    "### GRU"
   ]
  },
  {
   "cell_type": "code",
   "execution_count": 68,
   "metadata": {},
   "outputs": [
    {
     "name": "stdout",
     "output_type": "stream",
     "text": [
      "_________________________________________________________________\n",
      "Layer (type)                 Output Shape              Param #   \n",
      "=================================================================\n",
      "embedding_7 (Embedding)      (None, 45, 150)           5278200   \n",
      "_________________________________________________________________\n",
      "gru_1 (GRU)                  (None, 45, 64)            41280     \n",
      "_________________________________________________________________\n",
      "dense_7 (Dense)              (None, 45, 15)            975       \n",
      "_________________________________________________________________\n",
      "activation_7 (Activation)    (None, 45, 15)            0         \n",
      "=================================================================\n",
      "Total params: 5,320,455\n",
      "Trainable params: 5,320,455\n",
      "Non-trainable params: 0\n",
      "_________________________________________________________________\n",
      "None\n",
      "Train on 9180 samples, validate on 2296 samples\n",
      "Epoch 1/10\n",
      "9180/9180 [==============================] - 29s 3ms/step - loss: 1.5776 - acc: 0.6839 - val_loss: 0.8237 - val_acc: 0.7865\n",
      "Epoch 2/10\n",
      "9180/9180 [==============================] - 26s 3ms/step - loss: 0.8029 - acc: 0.8060 - val_loss: 0.7502 - val_acc: 0.8376\n",
      "Epoch 3/10\n",
      "9180/9180 [==============================] - 26s 3ms/step - loss: 0.6874 - acc: 0.8217 - val_loss: 0.5878 - val_acc: 0.8355\n",
      "Epoch 4/10\n",
      "9180/9180 [==============================] - 26s 3ms/step - loss: 0.5077 - acc: 0.8585 - val_loss: 0.4219 - val_acc: 0.8927\n",
      "Epoch 5/10\n",
      "9180/9180 [==============================] - 26s 3ms/step - loss: 0.3476 - acc: 0.9241 - val_loss: 0.2816 - val_acc: 0.9376\n",
      "Epoch 6/10\n",
      "9180/9180 [==============================] - 26s 3ms/step - loss: 0.2188 - acc: 0.9587 - val_loss: 0.1958 - val_acc: 0.9493\n",
      "Epoch 7/10\n",
      "9180/9180 [==============================] - 26s 3ms/step - loss: 0.1423 - acc: 0.9724 - val_loss: 0.1564 - val_acc: 0.9541\n",
      "Epoch 8/10\n",
      "9180/9180 [==============================] - 26s 3ms/step - loss: 0.1022 - acc: 0.9763 - val_loss: 0.1376 - val_acc: 0.9557\n",
      "Epoch 9/10\n",
      "9180/9180 [==============================] - 26s 3ms/step - loss: 0.0812 - acc: 0.9782 - val_loss: 0.1277 - val_acc: 0.9570\n",
      "Epoch 10/10\n",
      "9180/9180 [==============================] - 26s 3ms/step - loss: 0.0695 - acc: 0.9792 - val_loss: 0.1220 - val_acc: 0.9576\n"
     ]
    }
   ],
   "source": [
    "model_gru_g = make_model(S_MAX_FEATURES_g, T_MAX_FEATURES_g, MAX_SEQLEN_g, GRU_flag = True)\n",
    "history_gru_g = model_gru_g.fit(X_train_g, to_categorical(Y_train_g), batch_size=BATCH_SIZE, \n",
    "                    epochs=NUM_EPOCHS,\n",
    "                    validation_data=(X_val_g, to_categorical(Y_val_g)))"
   ]
  },
  {
   "cell_type": "code",
   "execution_count": 69,
   "metadata": {},
   "outputs": [
    {
     "name": "stdout",
     "output_type": "stream",
     "text": [
      "_________________________________________________________________\n",
      "Layer (type)                 Output Shape              Param #   \n",
      "=================================================================\n",
      "embedding_8 (Embedding)      (None, 50, 150)           4511100   \n",
      "_________________________________________________________________\n",
      "gru_2 (GRU)                  (None, 50, 64)            41280     \n",
      "_________________________________________________________________\n",
      "dense_8 (Dense)              (None, 50, 18)            1170      \n",
      "_________________________________________________________________\n",
      "activation_8 (Activation)    (None, 50, 18)            0         \n",
      "=================================================================\n",
      "Total params: 4,553,550\n",
      "Trainable params: 4,553,550\n",
      "Non-trainable params: 0\n",
      "_________________________________________________________________\n",
      "None\n",
      "Train on 12556 samples, validate on 3140 samples\n",
      "Epoch 1/10\n",
      "12556/12556 [==============================] - 43s 3ms/step - loss: 1.4968 - acc: 0.7334 - val_loss: 0.8501 - val_acc: 0.8077\n",
      "Epoch 2/10\n",
      "12556/12556 [==============================] - 40s 3ms/step - loss: 0.7767 - acc: 0.8027 - val_loss: 0.6713 - val_acc: 0.8203\n",
      "Epoch 3/10\n",
      "12556/12556 [==============================] - 39s 3ms/step - loss: 0.5366 - acc: 0.8669 - val_loss: 0.3876 - val_acc: 0.9178\n",
      "Epoch 4/10\n",
      "12556/12556 [==============================] - 40s 3ms/step - loss: 0.2817 - acc: 0.9417 - val_loss: 0.2084 - val_acc: 0.9533\n",
      "Epoch 5/10\n",
      "12556/12556 [==============================] - 39s 3ms/step - loss: 0.1576 - acc: 0.9661 - val_loss: 0.1432 - val_acc: 0.9655\n",
      "Epoch 6/10\n",
      "12556/12556 [==============================] - 39s 3ms/step - loss: 0.1059 - acc: 0.9768 - val_loss: 0.1157 - val_acc: 0.9698\n",
      "Epoch 7/10\n",
      "12556/12556 [==============================] - 39s 3ms/step - loss: 0.0807 - acc: 0.9804 - val_loss: 0.1023 - val_acc: 0.9713\n",
      "Epoch 8/10\n",
      "12556/12556 [==============================] - 39s 3ms/step - loss: 0.0672 - acc: 0.9815 - val_loss: 0.0953 - val_acc: 0.9720\n",
      "Epoch 9/10\n",
      "12556/12556 [==============================] - 40s 3ms/step - loss: 0.0594 - acc: 0.9821 - val_loss: 0.0910 - val_acc: 0.9723\n",
      "Epoch 10/10\n",
      "12556/12556 [==============================] - 39s 3ms/step - loss: 0.0543 - acc: 0.9826 - val_loss: 0.0882 - val_acc: 0.9727\n"
     ]
    }
   ],
   "source": [
    "model_gru_n = make_model(S_MAX_FEATURES_n, T_MAX_FEATURES_n, MAX_SEQLEN_n, GRU_flag = True)\n",
    "history_gru_n = model_gru_n.fit(X_train_n, to_categorical(Y_train_n), batch_size=BATCH_SIZE, \n",
    "                    epochs=NUM_EPOCHS,\n",
    "                    validation_data=(X_val_n, to_categorical(Y_val_n)))"
   ]
  },
  {
   "cell_type": "code",
   "execution_count": 70,
   "metadata": {},
   "outputs": [
    {
     "data": {
      "image/png": "[encoded data removed]",
      "text/plain": [
       "<matplotlib.figure.Figure at 0x73ef2b2400>"
      ]
     },
     "metadata": {},
     "output_type": "display_data"
    }
   ],
   "source": [
    "plotting(history_gru_g)"
   ]
  },
  {
   "cell_type": "code",
   "execution_count": 71,
   "metadata": {},
   "outputs": [
    {
     "data": {
      "image/png": "[encoded data removed]",
      "text/plain": [
       "<matplotlib.figure.Figure at 0x7409eefc50>"
      ]
     },
     "metadata": {},
     "output_type": "display_data"
    }
   ],
   "source": [
    "plotting(history_gru_n)"
   ]
  },
  {
   "cell_type": "code",
   "execution_count": 72,
   "metadata": {},
   "outputs": [
    {
     "name": "stdout",
     "output_type": "stream",
     "text": [
      "1306/1306 [==============================] - 1s 747us/step\n",
      "Test score: 0.131, accuracy: 95.406\n"
     ]
    }
   ],
   "source": [
    "score, acc = model_gru_g.evaluate(X_test_g, to_categorical(Y_test_g))\n",
    "print(\"Test score: %.3f, accuracy: %.3f\" % (score, acc*100))"
   ]
  },
  {
   "cell_type": "code",
   "execution_count": 73,
   "metadata": {},
   "outputs": [
    {
     "name": "stdout",
     "output_type": "stream",
     "text": [
      "1939/1939 [==============================] - 2s 790us/step\n",
      "Test score: 0.109, accuracy: 96.758\n"
     ]
    }
   ],
   "source": [
    "score, acc = model_gru_n.evaluate(X_test_n, to_categorical(Y_test_n))\n",
    "print(\"Test score: %.3f, accuracy: %.3f\" % (score, acc*100))"
   ]
  },
  {
   "cell_type": "code",
   "execution_count": 74,
   "metadata": {},
   "outputs": [
    {
     "name": "stdout",
     "output_type": "stream",
     "text": [
      "Random Sent 1:\n",
      "('SCONJ', 'ADV')\n",
      "('ADJ', 'ADJ')\n",
      "('ADJ', 'VERB')\n",
      "('ADJ', 'ADJ')\n",
      "('ADJ', 'ADJ')\n",
      "('VERB', 'VERB')\n",
      "('NOUN', 'NOUN')\n",
      "('PUNCT', 'PUNCT')\n",
      "_________\n",
      "Random Sent 2:\n",
      "('ADJ', 'ADJ')\n",
      "('ADV', 'ADV')\n",
      "('ADJ', 'PRON')\n",
      "('VERB', 'VERB')\n",
      "('NOUN', 'NOUN')\n",
      "('VERB', 'VERB')\n",
      "('PUNCT', 'PUNCT')\n",
      "_________\n",
      "Random Sent 3:\n",
      "('ADP', 'ADP')\n",
      "('PART', 'CCONJ')\n",
      "('NOUN', 'NOUN')\n",
      "('NOUN', 'NOUN')\n",
      "('VERB', 'VERB')\n",
      "('VERB', 'ADJ')\n",
      "('VERB', 'NOUN')\n",
      "('ADJ', 'ADJ')\n",
      "('PUNCT', 'PUNCT')\n",
      "_________\n",
      "Random Sent 4:\n",
      "('ADV', 'ADV')\n",
      "('PART', 'PART')\n",
      "('NOUN', 'NOUN')\n",
      "('VERB', 'NOUN')\n",
      "('ADJ', 'ADJ')\n",
      "('VERB', 'VERB')\n",
      "('PUNCT', 'PUNCT')\n",
      "('ADJ', 'ADJ')\n",
      "('PART', 'PART')\n",
      "('PRON', 'PRON')\n",
      "('NOUN', 'NOUN')\n",
      "('VERB', 'VERB')\n",
      "('ADP', 'ADP')\n",
      "('NOUN', 'NOUN')\n",
      "('ADJ', 'ADJ')\n",
      "('NOUN', 'NOUN')\n",
      "('VERB', 'VERB')\n",
      "('PUNCT', 'PUNCT')\n",
      "_________\n",
      "Random Sent 5:\n",
      "('DET', 'DET')\n",
      "('PART', 'ADV')\n",
      "('NOUN', 'NOUN')\n",
      "('PRON', 'PRON')\n",
      "('VERB', 'VERB')\n",
      "('VERB', 'VERB')\n",
      "('DET', 'PRON')\n",
      "('CCONJ', 'ADV')\n",
      "('ADV', 'ADV')\n",
      "('PRON', 'DET')\n",
      "('VERB', 'NOUN')\n",
      "('ADV', 'ADV')\n",
      "('VERB', 'VERB')\n",
      "('PUNCT', 'PUNCT')\n",
      "_________\n"
     ]
    }
   ],
   "source": [
    "predict(X_test_g, Y_test_g, MAX_SEQLEN_g, tag2index_g, model_gru_g)"
   ]
  },
  {
   "cell_type": "code",
   "execution_count": 75,
   "metadata": {},
   "outputs": [
    {
     "name": "stdout",
     "output_type": "stream",
     "text": [
      "Random Sent 1:\n",
      "('CCONJ', 'CCONJ')\n",
      "('AUX', 'VERB')\n",
      "('PRON', 'PRON')\n",
      "('PRON', 'PRON')\n",
      "('PUNCT', 'PUNCT')\n",
      "_________\n",
      "Random Sent 2:\n",
      "('CCONJ', 'CCONJ')\n",
      "('ADP', 'ADP')\n",
      "('NOUN', 'NOUN')\n",
      "('AUX', 'AUX')\n",
      "('PRON', 'PRON')\n",
      "('VERB', 'VERB')\n",
      "('NOUN', 'NOUN')\n",
      "('CCONJ', 'CCONJ')\n",
      "('ADP', 'ADP')\n",
      "('NOUN', 'NOUN')\n",
      "('CCONJ', 'CCONJ')\n",
      "('ADP', 'ADP')\n",
      "('NOUN', 'NOUN')\n",
      "('PUNCT', 'PUNCT')\n",
      "_________\n",
      "Random Sent 3:\n",
      "('NOUN', 'NOUN')\n",
      "('CCONJ', 'CCONJ')\n",
      "('NOUN', 'NOUN')\n",
      "('PUNCT', 'PUNCT')\n",
      "_________\n",
      "Random Sent 4:\n",
      "('PRON', 'PRON')\n",
      "('VERB', 'VERB')\n",
      "('ADP', 'ADP')\n",
      "('DET', 'DET')\n",
      "('NOUN', 'ADJ')\n",
      "('NOUN', 'NOUN')\n",
      "('ADP', 'ADP')\n",
      "('NOUN', 'NOUN')\n",
      "('NOUN', 'VERB')\n",
      "('ADP', 'ADP')\n",
      "('ADP', 'ADP')\n",
      "('DET', 'DET')\n",
      "('NOUN', 'NOUN')\n",
      "('ADP', 'ADP')\n",
      "('NOUN', 'ADJ')\n",
      "('NOUN', 'NOUN')\n",
      "('PRON', 'PRON')\n",
      "('ADV', 'ADV')\n",
      "('VERB', 'VERB')\n",
      "('ADP', 'SCONJ')\n",
      "('PART', 'PART')\n",
      "('VERB', 'VERB')\n",
      "('PUNCT', 'PUNCT')\n",
      "_________\n",
      "Random Sent 5:\n",
      "('SCONJ', 'SCONJ')\n",
      "('NOUN', 'NOUN')\n",
      "('VERB', 'VERB')\n",
      "('ADP', 'ADP')\n",
      "('NOUN', 'NOUN')\n",
      "('ADP', 'ADP')\n",
      "('PROPN', 'PROPN')\n",
      "('ADP', 'ADP')\n",
      "('NUM', 'NUM')\n",
      "('CCONJ', 'CCONJ')\n",
      "('ADP', 'ADP')\n",
      "('PROPN', 'PROPN')\n",
      "('ADP', 'ADP')\n",
      "('NUM', 'NUM')\n",
      "('PUNCT', 'PUNCT')\n",
      "('AUX', 'AUX')\n",
      "('PRON', 'PRON')\n",
      "('AUX', 'AUX')\n",
      "('VERB', 'VERB')\n",
      "('NUM', 'NUM')\n",
      "('NOUN', 'NOUN')\n",
      "('NOUN', 'NOUN')\n",
      "('ADP', 'ADP')\n",
      "('NOUN', 'NOUN')\n",
      "('CCONJ', 'CCONJ')\n",
      "('ADP', 'ADP')\n",
      "('PROPN', 'PROPN')\n",
      "('PUNCT', 'PUNCT')\n",
      "_________\n"
     ]
    }
   ],
   "source": [
    "predict(X_test_n, Y_test_n, MAX_SEQLEN_n, tag2index_n, model_gru_n)"
   ]
  },
  {
   "cell_type": "markdown",
   "metadata": {},
   "source": [
    "### Embedding Size"
   ]
  },
  {
   "cell_type": "code",
   "execution_count": 76,
   "metadata": {},
   "outputs": [
    {
     "name": "stdout",
     "output_type": "stream",
     "text": [
      "_________________________________________________________________\n",
      "Layer (type)                 Output Shape              Param #   \n",
      "=================================================================\n",
      "embedding_9 (Embedding)      (None, 45, 100)           3518800   \n",
      "_________________________________________________________________\n",
      "lstm_5 (LSTM)                (None, 45, 64)            42240     \n",
      "_________________________________________________________________\n",
      "dense_9 (Dense)              (None, 45, 15)            975       \n",
      "_________________________________________________________________\n",
      "activation_9 (Activation)    (None, 45, 15)            0         \n",
      "=================================================================\n",
      "Total params: 3,562,015\n",
      "Trainable params: 3,562,015\n",
      "Non-trainable params: 0\n",
      "_________________________________________________________________\n",
      "None\n"
     ]
    }
   ],
   "source": [
    "model_lstm = make_model(S_MAX_FEATURES_g, T_MAX_FEATURES_g, MAX_SEQLEN_g, LSTM_flag = True, EMBEDDING_SIZE = 100)"
   ]
  },
  {
   "cell_type": "code",
   "execution_count": 77,
   "metadata": {},
   "outputs": [
    {
     "name": "stdout",
     "output_type": "stream",
     "text": [
      "Train on 9180 samples, validate on 2296 samples\n",
      "Epoch 1/10\n",
      "9180/9180 [==============================] - 34s 4ms/step - loss: 1.6979 - acc: 0.6668 - val_loss: 0.9624 - val_acc: 0.6914\n",
      "Epoch 2/10\n",
      "9180/9180 [==============================] - 30s 3ms/step - loss: 0.9046 - acc: 0.6974 - val_loss: 0.8511 - val_acc: 0.6972\n",
      "Epoch 3/10\n",
      "9180/9180 [==============================] - 30s 3ms/step - loss: 0.8397 - acc: 0.7047 - val_loss: 0.8084 - val_acc: 0.7112\n",
      "Epoch 4/10\n",
      "9180/9180 [==============================] - 30s 3ms/step - loss: 0.7987 - acc: 0.7165 - val_loss: 0.7613 - val_acc: 0.7344\n",
      "Epoch 5/10\n",
      "9180/9180 [==============================] - 30s 3ms/step - loss: 0.7402 - acc: 0.7516 - val_loss: 0.6975 - val_acc: 0.7691\n",
      "Epoch 6/10\n",
      "9180/9180 [==============================] - 30s 3ms/step - loss: 0.6776 - acc: 0.7780 - val_loss: 0.6408 - val_acc: 0.7880\n",
      "Epoch 7/10\n",
      "9180/9180 [==============================] - 30s 3ms/step - loss: 0.6216 - acc: 0.7999 - val_loss: 0.5846 - val_acc: 0.8137\n",
      "Epoch 8/10\n",
      "9180/9180 [==============================] - 31s 3ms/step - loss: 0.5562 - acc: 0.8236 - val_loss: 0.5137 - val_acc: 0.8302\n",
      "Epoch 9/10\n",
      "9180/9180 [==============================] - 30s 3ms/step - loss: 0.4711 - acc: 0.8542 - val_loss: 0.4217 - val_acc: 0.8704\n",
      "Epoch 10/10\n",
      "9180/9180 [==============================] - 30s 3ms/step - loss: 0.3635 - acc: 0.9048 - val_loss: 0.3188 - val_acc: 0.9167\n"
     ]
    },
    {
     "data": {
      "text/plain": [
       "<keras.callbacks.History at 0x740d4f98d0>"
      ]
     },
     "execution_count": 77,
     "metadata": {},
     "output_type": "execute_result"
    }
   ],
   "source": [
    "model_lstm.fit(X_train_g, to_categorical(Y_train_g), batch_size=BATCH_SIZE, \n",
    "                    epochs=NUM_EPOCHS,\n",
    "                    validation_data=(X_val_g, to_categorical(Y_val_g)))"
   ]
  },
  {
   "cell_type": "code",
   "execution_count": 78,
   "metadata": {},
   "outputs": [
    {
     "name": "stdout",
     "output_type": "stream",
     "text": [
      "1306/1306 [==============================] - 1s 585us/step\n",
      "Test score: 0.333, accuracy: 91.052\n"
     ]
    }
   ],
   "source": [
    "score, acc = model_lstm.evaluate(X_test_g, to_categorical(Y_test_g))\n",
    "print(\"Test score: %.3f, accuracy: %.3f\" % (score, acc*100))"
   ]
  },
  {
   "cell_type": "code",
   "execution_count": null,
   "metadata": {},
   "outputs": [],
   "source": []
  },
  {
   "cell_type": "code",
   "execution_count": null,
   "metadata": {},
   "outputs": [],
   "source": []
  },
  {
   "cell_type": "code",
   "execution_count": 79,
   "metadata": {},
   "outputs": [
    {
     "name": "stdout",
     "output_type": "stream",
     "text": [
      "_________________________________________________________________\n",
      "Layer (type)                 Output Shape              Param #   \n",
      "=================================================================\n",
      "embedding_10 (Embedding)     (None, 45, 200)           7037600   \n",
      "_________________________________________________________________\n",
      "lstm_6 (LSTM)                (None, 45, 64)            67840     \n",
      "_________________________________________________________________\n",
      "dense_10 (Dense)             (None, 45, 15)            975       \n",
      "_________________________________________________________________\n",
      "activation_10 (Activation)   (None, 45, 15)            0         \n",
      "=================================================================\n",
      "Total params: 7,106,415\n",
      "Trainable params: 7,106,415\n",
      "Non-trainable params: 0\n",
      "_________________________________________________________________\n",
      "None\n"
     ]
    }
   ],
   "source": [
    "model_lstm = make_model(S_MAX_FEATURES_g, T_MAX_FEATURES_g, MAX_SEQLEN_g, LSTM_flag = True, EMBEDDING_SIZE = 200)"
   ]
  },
  {
   "cell_type": "code",
   "execution_count": 80,
   "metadata": {},
   "outputs": [
    {
     "name": "stdout",
     "output_type": "stream",
     "text": [
      "Train on 9180 samples, validate on 2296 samples\n",
      "Epoch 1/10\n",
      "9180/9180 [==============================] - 45s 5ms/step - loss: 1.5963 - acc: 0.6484 - val_loss: 0.8912 - val_acc: 0.7158\n",
      "Epoch 2/10\n",
      "9180/9180 [==============================] - 39s 4ms/step - loss: 0.8634 - acc: 0.7308 - val_loss: 0.8154 - val_acc: 0.7298\n",
      "Epoch 3/10\n",
      "9180/9180 [==============================] - 39s 4ms/step - loss: 0.7889 - acc: 0.7469 - val_loss: 0.7323 - val_acc: 0.7700\n",
      "Epoch 4/10\n",
      "9180/9180 [==============================] - 40s 4ms/step - loss: 0.7023 - acc: 0.7747 - val_loss: 0.6539 - val_acc: 0.7875\n",
      "Epoch 5/10\n",
      "9180/9180 [==============================] - 40s 4ms/step - loss: 0.6288 - acc: 0.7962 - val_loss: 0.5847 - val_acc: 0.8112\n",
      "Epoch 6/10\n",
      "9180/9180 [==============================] - 40s 4ms/step - loss: 0.5481 - acc: 0.8288 - val_loss: 0.4961 - val_acc: 0.8456\n",
      "Epoch 7/10\n",
      "9180/9180 [==============================] - 40s 4ms/step - loss: 0.4402 - acc: 0.8714 - val_loss: 0.3813 - val_acc: 0.8919\n",
      "Epoch 8/10\n",
      "9180/9180 [==============================] - 40s 4ms/step - loss: 0.3101 - acc: 0.9283 - val_loss: 0.2694 - val_acc: 0.9341\n",
      "Epoch 9/10\n",
      "9180/9180 [==============================] - 39s 4ms/step - loss: 0.2018 - acc: 0.9623 - val_loss: 0.2008 - val_acc: 0.9494\n",
      "Epoch 10/10\n",
      "9180/9180 [==============================] - 42s 5ms/step - loss: 0.1377 - acc: 0.9736 - val_loss: 0.1665 - val_acc: 0.9542\n"
     ]
    },
    {
     "data": {
      "text/plain": [
       "<keras.callbacks.History at 0x740eb80cf8>"
      ]
     },
     "execution_count": 80,
     "metadata": {},
     "output_type": "execute_result"
    }
   ],
   "source": [
    "model_lstm.fit(X_train_g, to_categorical(Y_train_g), batch_size=BATCH_SIZE, \n",
    "                    epochs=NUM_EPOCHS,\n",
    "                    validation_data=(X_val_g, to_categorical(Y_val_g)))"
   ]
  },
  {
   "cell_type": "code",
   "execution_count": 81,
   "metadata": {},
   "outputs": [
    {
     "name": "stdout",
     "output_type": "stream",
     "text": [
      "1306/1306 [==============================] - 2s 2ms/step\n",
      "Test score: 0.176, accuracy: 95.074\n"
     ]
    }
   ],
   "source": [
    "score, acc = model_lstm.evaluate(X_test_g, to_categorical(Y_test_g))\n",
    "print(\"Test score: %.3f, accuracy: %.3f\" % (score, acc*100))"
   ]
  },
  {
   "cell_type": "code",
   "execution_count": null,
   "metadata": {},
   "outputs": [],
   "source": []
  },
  {
   "cell_type": "code",
   "execution_count": 82,
   "metadata": {},
   "outputs": [
    {
     "name": "stdout",
     "output_type": "stream",
     "text": [
      "_________________________________________________________________\n",
      "Layer (type)                 Output Shape              Param #   \n",
      "=================================================================\n",
      "embedding_11 (Embedding)     (None, 45, 300)           10556400  \n",
      "_________________________________________________________________\n",
      "lstm_7 (LSTM)                (None, 45, 64)            93440     \n",
      "_________________________________________________________________\n",
      "dense_11 (Dense)             (None, 45, 15)            975       \n",
      "_________________________________________________________________\n",
      "activation_11 (Activation)   (None, 45, 15)            0         \n",
      "=================================================================\n",
      "Total params: 10,650,815\n",
      "Trainable params: 10,650,815\n",
      "Non-trainable params: 0\n",
      "_________________________________________________________________\n",
      "None\n"
     ]
    }
   ],
   "source": [
    "model_lstm = make_model(S_MAX_FEATURES_g, T_MAX_FEATURES_g, MAX_SEQLEN_g, LSTM_flag = True, EMBEDDING_SIZE = 300)"
   ]
  },
  {
   "cell_type": "code",
   "execution_count": 83,
   "metadata": {},
   "outputs": [
    {
     "name": "stdout",
     "output_type": "stream",
     "text": [
      "Train on 9180 samples, validate on 2296 samples\n",
      "Epoch 1/10\n",
      "9180/9180 [==============================] - 56s 6ms/step - loss: 1.3900 - acc: 0.6739 - val_loss: 0.8608 - val_acc: 0.7424\n",
      "Epoch 2/10\n",
      "9180/9180 [==============================] - 49s 5ms/step - loss: 0.8365 - acc: 0.7365 - val_loss: 0.7858 - val_acc: 0.7410\n",
      "Epoch 3/10\n",
      "9180/9180 [==============================] - 46s 5ms/step - loss: 0.7411 - acc: 0.7545 - val_loss: 0.6753 - val_acc: 0.7786\n",
      "Epoch 4/10\n",
      "9180/9180 [==============================] - 50s 5ms/step - loss: 0.6456 - acc: 0.7885 - val_loss: 0.5968 - val_acc: 0.7982\n",
      "Epoch 5/10\n",
      "9180/9180 [==============================] - 51s 6ms/step - loss: 0.5598 - acc: 0.8179 - val_loss: 0.5031 - val_acc: 0.8340\n",
      "Epoch 6/10\n",
      "9180/9180 [==============================] - 50s 5ms/step - loss: 0.4446 - acc: 0.8710 - val_loss: 0.3781 - val_acc: 0.8974\n",
      "Epoch 7/10\n",
      "9180/9180 [==============================] - 48s 5ms/step - loss: 0.3036 - acc: 0.9314 - val_loss: 0.2555 - val_acc: 0.9391\n",
      "Epoch 8/10\n",
      "9180/9180 [==============================] - 48s 5ms/step - loss: 0.1887 - acc: 0.9648 - val_loss: 0.1864 - val_acc: 0.9492\n",
      "Epoch 9/10\n",
      "9180/9180 [==============================] - 48s 5ms/step - loss: 0.1252 - acc: 0.9736 - val_loss: 0.1555 - val_acc: 0.9524\n",
      "Epoch 10/10\n",
      "9180/9180 [==============================] - 49s 5ms/step - loss: 0.0947 - acc: 0.9771 - val_loss: 0.1404 - val_acc: 0.9547\n"
     ]
    },
    {
     "data": {
      "text/plain": [
       "<keras.callbacks.History at 0x740fe9e8d0>"
      ]
     },
     "execution_count": 83,
     "metadata": {},
     "output_type": "execute_result"
    }
   ],
   "source": [
    "model_lstm.fit(X_train_g, to_categorical(Y_train_g), batch_size=BATCH_SIZE, \n",
    "                    epochs=NUM_EPOCHS,\n",
    "                    validation_data=(X_val_g, to_categorical(Y_val_g)))"
   ]
  },
  {
   "cell_type": "code",
   "execution_count": 85,
   "metadata": {},
   "outputs": [
    {
     "name": "stdout",
     "output_type": "stream",
     "text": [
      "1306/1306 [==============================] - 3s 3ms/step\n",
      "Test score: 0.152, accuracy: 95.180\n"
     ]
    }
   ],
   "source": [
    "score, acc = model_lstm.evaluate(X_test_g, to_categorical(Y_test_g))\n",
    "print(\"Test score: %.3f, accuracy: %.3f\" % (score, acc*100))"
   ]
  },
  {
   "cell_type": "markdown",
   "metadata": {},
   "source": [
    "С увеличением размера эмбеддингов точность растет, так как мы сохраняем все больше информации о данных"
   ]
  },
  {
   "cell_type": "code",
   "execution_count": null,
   "metadata": {},
   "outputs": [],
   "source": []
  },
  {
   "cell_type": "code",
   "execution_count": null,
   "metadata": {},
   "outputs": [],
   "source": []
  }
 ],
 "metadata": {
  "kernelspec": {
   "display_name": "Python 3",
   "language": "python",
   "name": "python3"
  },
  "language_info": {
   "codemirror_mode": {
    "name": "ipython",
    "version": 3
   },
   "file_extension": ".py",
   "mimetype": "text/x-python",
   "name": "python",
   "nbconvert_exporter": "python",
   "pygments_lexer": "ipython3",
   "version": "3.6.4"
  }
 },
 "nbformat": 4,
 "nbformat_minor": 2
}
